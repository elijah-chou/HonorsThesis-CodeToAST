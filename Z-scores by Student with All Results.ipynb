{
 "cells": [
  {
   "cell_type": "code",
   "execution_count": 23,
   "id": "1ea5570d",
   "metadata": {},
   "outputs": [],
   "source": [
    "import pandas as pd\n",
    "import numpy as np\n",
    "import matplotlib.pyplot as plt\n",
    "from scipy.stats import pearsonr\n",
    "import os"
   ]
  },
  {
   "cell_type": "code",
   "execution_count": 3,
   "id": "436718aa",
   "metadata": {},
   "outputs": [],
   "source": [
    "os.chdir(\"C:/Users/Elijah/Desktop/results-including-0-scores\")\n",
    "allData = pd.DataFrame()\n",
    "for filename in os.listdir(os.getcwd()):\n",
    "    file = pd.read_csv(filename)\n",
    "    allData = pd.concat([allData, file])"
   ]
  },
  {
   "cell_type": "code",
   "execution_count": 4,
   "id": "f1fed51c",
   "metadata": {},
   "outputs": [],
   "source": [
    "allData2 = allData.drop(allData.columns[[0,1]], axis=1)"
   ]
  },
  {
   "cell_type": "code",
   "execution_count": 5,
   "id": "e9dcd38d",
   "metadata": {
    "scrolled": false
   },
   "outputs": [
    {
     "data": {
      "text/plain": [
       "Year                         int64\n",
       "Semester                    object\n",
       "Quiz #                      object\n",
       "Student ID                  object\n",
       "Coding Problem              object\n",
       "Score                      float64\n",
       "Maximum                      int64\n",
       "Distance                   float64\n",
       "Percent                    float64\n",
       "Distance Z-score           float64\n",
       "Distance Min-Max Scaled    float64\n",
       "dtype: object"
      ]
     },
     "execution_count": 5,
     "metadata": {},
     "output_type": "execute_result"
    }
   ],
   "source": [
    "allData2.dtypes"
   ]
  },
  {
   "cell_type": "code",
   "execution_count": 6,
   "id": "8f1b88a8",
   "metadata": {},
   "outputs": [],
   "source": [
    "students_mean = allData2.groupby(\"Student ID\").mean()"
   ]
  },
  {
   "cell_type": "code",
   "execution_count": 7,
   "id": "82c52276",
   "metadata": {},
   "outputs": [],
   "source": [
    "zscore = students_mean.loc[:, ['Distance Z-score', 'Distance Min-Max Scaled']]"
   ]
  },
  {
   "cell_type": "code",
   "execution_count": 8,
   "id": "48f16fc1",
   "metadata": {},
   "outputs": [],
   "source": [
    "students_sum = allData2.groupby(\"Student ID\").sum()"
   ]
  },
  {
   "cell_type": "code",
   "execution_count": 9,
   "id": "39d0f8bf",
   "metadata": {},
   "outputs": [],
   "source": [
    "grades = students_sum.loc[:, ['Score', 'Maximum']]"
   ]
  },
  {
   "cell_type": "code",
   "execution_count": 10,
   "id": "dc033f95",
   "metadata": {},
   "outputs": [],
   "source": [
    "students = zscore.join(grades)"
   ]
  },
  {
   "cell_type": "code",
   "execution_count": 11,
   "id": "843b0344",
   "metadata": {
    "scrolled": false
   },
   "outputs": [],
   "source": [
    "students[\"Score / Maximum %\"] = students['Score'] / students['Maximum']"
   ]
  },
  {
   "cell_type": "code",
   "execution_count": 17,
   "id": "e93b6bd9",
   "metadata": {},
   "outputs": [
    {
     "data": {
      "text/plain": [
       "-0.41905908734945946"
      ]
     },
     "execution_count": 17,
     "metadata": {},
     "output_type": "execute_result"
    }
   ],
   "source": [
    "students['Distance Z-score'].corr(students['Score / Maximum %'],method='pearson')"
   ]
  },
  {
   "cell_type": "code",
   "execution_count": 20,
   "id": "ef6149a2",
   "metadata": {
    "scrolled": true
   },
   "outputs": [
    {
     "data": {
      "text/plain": [
       "(-0.4190590873494591, 3.435514071043554e-38)"
      ]
     },
     "execution_count": 20,
     "metadata": {},
     "output_type": "execute_result"
    }
   ],
   "source": [
    "pearsonr(students['Distance Z-score'], students['Score / Maximum %'])"
   ]
  },
  {
   "cell_type": "code",
   "execution_count": 28,
   "id": "9f6dad50",
   "metadata": {},
   "outputs": [
    {
     "data": {
      "text/plain": [
       "[<matplotlib.lines.Line2D at 0x164c7486bb0>]"
      ]
     },
     "execution_count": 28,
     "metadata": {},
     "output_type": "execute_result"
    },
    {
     "data": {
      "image/png": "[encoded data removed]",
      "text/plain": [
       "<Figure size 432x288 with 1 Axes>"
      ]
     },
     "metadata": {
      "needs_background": "light"
     },
     "output_type": "display_data"
    }
   ],
   "source": [
    "x = students['Score / Maximum %']\n",
    "y = students['Distance Z-score']\n",
    "students.plot(x='Score / Maximum %', y='Distance Z-score', kind='scatter')\n",
    "plt.plot()\n",
    "m, b = np.polyfit(x, y, 1)\n",
    "plt.plot(x, m*x+b, color='red')"
   ]
  }
 ],
 "metadata": {
  "kernelspec": {
   "display_name": "Python 3",
   "language": "python",
   "name": "python3"
  },
  "language_info": {
   "codemirror_mode": {
    "name": "ipython",
    "version": 3
   },
   "file_extension": ".py",
   "mimetype": "text/x-python",
   "name": "python",
   "nbconvert_exporter": "python",
   "pygments_lexer": "ipython3",
   "version": "3.8.8"
  }
 },
 "nbformat": 4,
 "nbformat_minor": 5
}
