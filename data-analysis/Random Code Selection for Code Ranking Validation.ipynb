{
 "cells": [
  {
   "cell_type": "code",
   "execution_count": 26,
   "id": "9f17d1e9",
   "metadata": {},
   "outputs": [],
   "source": [
    "import os\n",
    "import pandas as pd"
   ]
  },
  {
   "cell_type": "code",
   "execution_count": 87,
   "id": "2951fff4",
   "metadata": {},
   "outputs": [],
   "source": [
    "os.chdir(\"C:/Users/Elijah/Desktop/results-only-full-scores\")\n",
    "data = pd.read_csv(\"RecursiveHasChar.csv\")\n",
    "data['bins'] = pd.cut(x=data['Distance Z-score'], bins=3)"
   ]
  },
  {
   "cell_type": "code",
   "execution_count": 88,
   "id": "1f294910",
   "metadata": {},
   "outputs": [
    {
     "data": {
      "text/html": [
       "<div>\n",
       "<style scoped>\n",
       "    .dataframe tbody tr th:only-of-type {\n",
       "        vertical-align: middle;\n",
       "    }\n",
       "\n",
       "    .dataframe tbody tr th {\n",
       "        vertical-align: top;\n",
       "    }\n",
       "\n",
       "    .dataframe thead th {\n",
       "        text-align: right;\n",
       "    }\n",
       "</style>\n",
       "<table border=\"1\" class=\"dataframe\">\n",
       "  <thead>\n",
       "    <tr style=\"text-align: right;\">\n",
       "      <th></th>\n",
       "      <th>Unnamed: 0</th>\n",
       "      <th>Year</th>\n",
       "      <th>Semester</th>\n",
       "      <th>Quiz #</th>\n",
       "      <th>Student ID</th>\n",
       "      <th>Coding Problem</th>\n",
       "      <th>Score</th>\n",
       "      <th>Maximum</th>\n",
       "      <th>Distance</th>\n",
       "      <th>Percent</th>\n",
       "      <th>Distance Z-score</th>\n",
       "      <th>Distance Min-Max Scaled</th>\n",
       "      <th>bins</th>\n",
       "    </tr>\n",
       "  </thead>\n",
       "  <tbody>\n",
       "    <tr>\n",
       "      <th>91</th>\n",
       "      <td>91</td>\n",
       "      <td>2017</td>\n",
       "      <td>fall</td>\n",
       "      <td>quiz09</td>\n",
       "      <td>sfe579fbb</td>\n",
       "      <td>RecursiveHasChar</td>\n",
       "      <td>10</td>\n",
       "      <td>10</td>\n",
       "      <td>36.245902</td>\n",
       "      <td>0.335474</td>\n",
       "      <td>0.097174</td>\n",
       "      <td>0.167205</td>\n",
       "      <td>(-0.64, 0.826]</td>\n",
       "    </tr>\n",
       "    <tr>\n",
       "      <th>145</th>\n",
       "      <td>145</td>\n",
       "      <td>2018</td>\n",
       "      <td>fall</td>\n",
       "      <td>quiz09</td>\n",
       "      <td>s47956582</td>\n",
       "      <td>RecursiveHasChar</td>\n",
       "      <td>10</td>\n",
       "      <td>10</td>\n",
       "      <td>69.393443</td>\n",
       "      <td>0.642272</td>\n",
       "      <td>1.782954</td>\n",
       "      <td>0.551689</td>\n",
       "      <td>(0.826, 2.287]</td>\n",
       "    </tr>\n",
       "    <tr>\n",
       "      <th>68</th>\n",
       "      <td>68</td>\n",
       "      <td>2017</td>\n",
       "      <td>fall</td>\n",
       "      <td>quiz09</td>\n",
       "      <td>sa1b80ac2</td>\n",
       "      <td>RecursiveHasChar</td>\n",
       "      <td>10</td>\n",
       "      <td>10</td>\n",
       "      <td>100.606557</td>\n",
       "      <td>0.931165</td>\n",
       "      <td>3.370356</td>\n",
       "      <td>0.913735</td>\n",
       "      <td>(2.287, 3.749]</td>\n",
       "    </tr>\n",
       "  </tbody>\n",
       "</table>\n",
       "</div>"
      ],
      "text/plain": [
       "     Unnamed: 0  Year Semester  Quiz # Student ID    Coding Problem  Score  \\\n",
       "91           91  2017     fall  quiz09  sfe579fbb  RecursiveHasChar     10   \n",
       "145         145  2018     fall  quiz09  s47956582  RecursiveHasChar     10   \n",
       "68           68  2017     fall  quiz09  sa1b80ac2  RecursiveHasChar     10   \n",
       "\n",
       "     Maximum    Distance   Percent  Distance Z-score  Distance Min-Max Scaled  \\\n",
       "91        10   36.245902  0.335474          0.097174                 0.167205   \n",
       "145       10   69.393443  0.642272          1.782954                 0.551689   \n",
       "68        10  100.606557  0.931165          3.370356                 0.913735   \n",
       "\n",
       "               bins  \n",
       "91   (-0.64, 0.826]  \n",
       "145  (0.826, 2.287]  \n",
       "68   (2.287, 3.749]  "
      ]
     },
     "execution_count": 88,
     "metadata": {},
     "output_type": "execute_result"
    }
   ],
   "source": [
    "data.groupby('bins').sample(n=1)"
   ]
  }
 ],
 "metadata": {
  "kernelspec": {
   "display_name": "Python 3",
   "language": "python",
   "name": "python3"
  },
  "language_info": {
   "codemirror_mode": {
    "name": "ipython",
    "version": 3
   },
   "file_extension": ".py",
   "mimetype": "text/x-python",
   "name": "python",
   "nbconvert_exporter": "python",
   "pygments_lexer": "ipython3",
   "version": "3.8.8"
  }
 },
 "nbformat": 4,
 "nbformat_minor": 5
}
