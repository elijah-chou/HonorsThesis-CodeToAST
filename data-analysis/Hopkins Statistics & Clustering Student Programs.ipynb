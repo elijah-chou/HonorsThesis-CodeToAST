{
 "cells": [
  {
   "cell_type": "markdown",
   "id": "9216d68d",
   "metadata": {},
   "source": [
    "## Hopkins Statistic\n",
    "\n",
    "The following section includes code taken from Prathma Chowskey's Python implementation of calculating the Hopkins Statistic. His code repository for this can be found here: https://github.com/prathmachowksey/Hopkins-Statistic-Clustering-Tendency.\n",
    "\n",
    "This analysis may be re-run using the 'hopkins' package in R to ensure that implementation was done correctly."
   ]
  },
  {
   "cell_type": "code",
   "execution_count": 1,
   "id": "2a237aa6",
   "metadata": {},
   "outputs": [],
   "source": [
    "# import necessary libraries\n",
    "import numpy as np\n",
    "from sklearn.neighbors import NearestNeighbors\n",
    "import pandas as pd\n",
    "import matplotlib.pyplot as plt\n",
    "%matplotlib inline\n",
    "from random import sample\n",
    "from numpy.random import uniform"
   ]
  },
  {
   "cell_type": "code",
   "execution_count": 2,
   "id": "540a37d0",
   "metadata": {},
   "outputs": [],
   "source": [
    "# function to compute hopkins's statistic for the dataframe X\n",
    "def hopkins_statistic(X):\n",
    "    \n",
    "    X=X.values  #convert dataframe to a numpy array\n",
    "    sample_size = int(X.shape[0]*0.05) #0.05 (5%) based on paper by Lawson and Jures\n",
    "    \n",
    "    \n",
    "    #a uniform random sample in the original data space\n",
    "    X_uniform_random_sample = uniform(X.min(axis=0), X.max(axis=0) ,(sample_size , X.shape[1]))\n",
    "    \n",
    "    \n",
    "    \n",
    "    #a random sample of size sample_size from the original data X\n",
    "    random_indices=sample(range(0, X.shape[0], 1), sample_size)\n",
    "    X_sample = X[random_indices]\n",
    "   \n",
    "    \n",
    "    #initialise unsupervised learner for implementing neighbor searches\n",
    "    neigh = NearestNeighbors(n_neighbors=2)\n",
    "    nbrs=neigh.fit(X)\n",
    "    \n",
    "    #u_distances = nearest neighbour distances from uniform random sample\n",
    "    u_distances , u_indices = nbrs.kneighbors(X_uniform_random_sample , n_neighbors=2)\n",
    "    u_distances = u_distances[: , 0] #distance to the first (nearest) neighbour\n",
    "    \n",
    "    #w_distances = nearest neighbour distances from a sample of points from original data X\n",
    "    w_distances , w_indices = nbrs.kneighbors(X_sample , n_neighbors=2)\n",
    "    #distance to the second nearest neighbour (as the first neighbour will be the point itself, with distance = 0)\n",
    "    w_distances = w_distances[: , 1]\n",
    "    \n",
    " \n",
    "    \n",
    "    u_sum = np.sum(u_distances)\n",
    "    w_sum = np.sum(w_distances)\n",
    "    \n",
    "    #compute and return hopkins' statistic\n",
    "    H = u_sum/ (u_sum + w_sum)\n",
    "    return H\n"
   ]
  },
  {
   "cell_type": "markdown",
   "id": "30fa22c9",
   "metadata": {},
   "source": [
    "### Hopkins Statistics for Data Including 0 Scores"
   ]
  },
  {
   "cell_type": "code",
   "execution_count": 4,
   "id": "c6b0bad5",
   "metadata": {},
   "outputs": [],
   "source": [
    "import os\n",
    "os.chdir(\"C:/Users/Elijah/Desktop/results-including-0-scores\")\n",
    "allData = pd.DataFrame()\n",
    "for filename in os.listdir(os.getcwd()):\n",
    "    file = pd.read_csv(filename)\n",
    "    allData = pd.concat([allData, file])"
   ]
  },
  {
   "cell_type": "code",
   "execution_count": 6,
   "id": "c3397704",
   "metadata": {},
   "outputs": [],
   "source": [
    "allData2 = allData.drop(allData.columns[[0,1]], axis=1)"
   ]
  },
  {
   "cell_type": "code",
   "execution_count": 8,
   "id": "1e134755",
   "metadata": {},
   "outputs": [],
   "source": [
    "all_zscores = allData2.loc[:, ['Distance Z-score']]"
   ]
  },
  {
   "cell_type": "code",
   "execution_count": 10,
   "id": "baa081a7",
   "metadata": {},
   "outputs": [],
   "source": [
    "H = hopkins_statistic(all_zscores)"
   ]
  },
  {
   "cell_type": "code",
   "execution_count": 13,
   "id": "d73bc7fe",
   "metadata": {},
   "outputs": [
    {
     "data": {
      "text/plain": [
       "0.9971425738069264"
      ]
     },
     "execution_count": 13,
     "metadata": {},
     "output_type": "execute_result"
    }
   ],
   "source": [
    "# for average Hopkins Statistic\n",
    "l = []\n",
    "for i in range(20):\n",
    "    H=hopkins_statistic(all_zscores)\n",
    "    l.append(H)\n",
    "\n",
    "np.mean(l)"
   ]
  },
  {
   "cell_type": "markdown",
   "id": "c0653776",
   "metadata": {},
   "source": [
    "### Hopkins Statistics for Correct Problems Only"
   ]
  },
  {
   "cell_type": "code",
   "execution_count": 14,
   "id": "6763c171",
   "metadata": {},
   "outputs": [],
   "source": [
    "os.chdir(\"C:/Users/Elijah/Desktop/results-only-full-scores\")\n",
    "fullScoreData = pd.DataFrame()\n",
    "for filename in os.listdir(os.getcwd()):\n",
    "    file = pd.read_csv(filename)\n",
    "    fullScoreData = pd.concat([fullScoreData, file])"
   ]
  },
  {
   "cell_type": "code",
   "execution_count": 16,
   "id": "42cd2e7f",
   "metadata": {},
   "outputs": [],
   "source": [
    "fullScoreData2 = fullScoreData.drop(fullScoreData.columns[0], axis=1)"
   ]
  },
  {
   "cell_type": "code",
   "execution_count": 18,
   "id": "788085ba",
   "metadata": {},
   "outputs": [],
   "source": [
    "fullscore_zscores = fullScoreData2.loc[:, ['Distance Z-score']]"
   ]
  },
  {
   "cell_type": "code",
   "execution_count": 19,
   "id": "8671913b",
   "metadata": {},
   "outputs": [],
   "source": [
    "H = hopkins_statistic(fullscore_zscores)"
   ]
  },
  {
   "cell_type": "code",
   "execution_count": 21,
   "id": "623e3fed",
   "metadata": {},
   "outputs": [
    {
     "data": {
      "text/plain": [
       "0.9950216665530455"
      ]
     },
     "execution_count": 21,
     "metadata": {},
     "output_type": "execute_result"
    }
   ],
   "source": [
    "# for average Hopkins Statistic\n",
    "l = []\n",
    "for i in range(20):\n",
    "    H=hopkins_statistic(all_zscores)\n",
    "    l.append(H)\n",
    "\n",
    "np.mean(l)"
   ]
  }
 ],
 "metadata": {
  "kernelspec": {
   "display_name": "Python 3",
   "language": "python",
   "name": "python3"
  },
  "language_info": {
   "codemirror_mode": {
    "name": "ipython",
    "version": 3
   },
   "file_extension": ".py",
   "mimetype": "text/x-python",
   "name": "python",
   "nbconvert_exporter": "python",
   "pygments_lexer": "ipython3",
   "version": "3.8.8"
  }
 },
 "nbformat": 4,
 "nbformat_minor": 5
}
