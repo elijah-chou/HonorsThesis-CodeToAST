{
 "cells": [
  {
   "cell_type": "markdown",
   "id": "9216d68d",
   "metadata": {},
   "source": [
    "## Hopkins Statistic\n",
    "\n",
    "The following section includes code taken from Prathma Chowskey's Python implementation of calculating the Hopkins Statistic. His code repository for this can be found here: https://github.com/prathmachowksey/Hopkins-Statistic-Clustering-Tendency.\n",
    "\n",
    "This analysis may be re-run using the 'hopkins' package in R to ensure that implementation was done correctly."
   ]
  },
  {
   "cell_type": "code",
   "execution_count": 2,
   "id": "2a237aa6",
   "metadata": {},
   "outputs": [],
   "source": [
    "# import necessary libraries\n",
    "import numpy as np\n",
    "from sklearn.cluster import KMeans\n",
    "import pandas as pd\n",
    "import matplotlib.pyplot as plt\n",
    "%matplotlib inline\n",
    "from random import sample\n",
    "from numpy.random import uniform\n",
    "import os"
   ]
  },
  {
   "cell_type": "code",
   "execution_count": 2,
   "id": "540a37d0",
   "metadata": {},
   "outputs": [],
   "source": [
    "# function to compute hopkins's statistic for the dataframe X\n",
    "def hopkins_statistic(X):\n",
    "    \n",
    "    X=X.values  #convert dataframe to a numpy array\n",
    "    sample_size = int(X.shape[0]*0.05) #0.05 (5%) based on paper by Lawson and Jures\n",
    "    \n",
    "    \n",
    "    #a uniform random sample in the original data space\n",
    "    X_uniform_random_sample = uniform(X.min(axis=0), X.max(axis=0) ,(sample_size , X.shape[1]))\n",
    "    \n",
    "    \n",
    "    \n",
    "    #a random sample of size sample_size from the original data X\n",
    "    random_indices=sample(range(0, X.shape[0], 1), sample_size)\n",
    "    X_sample = X[random_indices]\n",
    "   \n",
    "    \n",
    "    #initialise unsupervised learner for implementing neighbor searches\n",
    "    neigh = NearestNeighbors(n_neighbors=2)\n",
    "    nbrs=neigh.fit(X)\n",
    "    \n",
    "    #u_distances = nearest neighbour distances from uniform random sample\n",
    "    u_distances , u_indices = nbrs.kneighbors(X_uniform_random_sample , n_neighbors=2)\n",
    "    u_distances = u_distances[: , 0] #distance to the first (nearest) neighbour\n",
    "    \n",
    "    #w_distances = nearest neighbour distances from a sample of points from original data X\n",
    "    w_distances , w_indices = nbrs.kneighbors(X_sample , n_neighbors=2)\n",
    "    #distance to the second nearest neighbour (as the first neighbour will be the point itself, with distance = 0)\n",
    "    w_distances = w_distances[: , 1]\n",
    "    \n",
    " \n",
    "    \n",
    "    u_sum = np.sum(u_distances)\n",
    "    w_sum = np.sum(w_distances)\n",
    "    \n",
    "    #compute and return hopkins' statistic\n",
    "    H = u_sum/ (u_sum + w_sum)\n",
    "    return H\n"
   ]
  },
  {
   "cell_type": "markdown",
   "id": "30fa22c9",
   "metadata": {},
   "source": [
    "### Hopkins Statistics for Data Including 0 Scores"
   ]
  },
  {
   "cell_type": "code",
   "execution_count": 5,
   "id": "c6b0bad5",
   "metadata": {},
   "outputs": [],
   "source": [
    "os.chdir(\"C:/Users/Elijah/Desktop/results-including-0-scores\")\n",
    "allData = pd.DataFrame()\n",
    "for filename in os.listdir(os.getcwd()):\n",
    "    file = pd.read_csv(filename)\n",
    "    allData = pd.concat([allData, file])"
   ]
  },
  {
   "cell_type": "code",
   "execution_count": 6,
   "id": "c3397704",
   "metadata": {},
   "outputs": [],
   "source": [
    "allData2 = allData.drop(allData.columns[[0,1]], axis=1)"
   ]
  },
  {
   "cell_type": "code",
   "execution_count": 7,
   "id": "1e134755",
   "metadata": {},
   "outputs": [],
   "source": [
    "all_zscores = allData2.loc[:, ['Distance Z-score']]"
   ]
  },
  {
   "cell_type": "code",
   "execution_count": 8,
   "id": "314e43e0",
   "metadata": {},
   "outputs": [
    {
     "data": {
      "text/html": [
       "<div>\n",
       "<style scoped>\n",
       "    .dataframe tbody tr th:only-of-type {\n",
       "        vertical-align: middle;\n",
       "    }\n",
       "\n",
       "    .dataframe tbody tr th {\n",
       "        vertical-align: top;\n",
       "    }\n",
       "\n",
       "    .dataframe thead th {\n",
       "        text-align: right;\n",
       "    }\n",
       "</style>\n",
       "<table border=\"1\" class=\"dataframe\">\n",
       "  <thead>\n",
       "    <tr style=\"text-align: right;\">\n",
       "      <th></th>\n",
       "      <th>Year</th>\n",
       "      <th>Semester</th>\n",
       "      <th>Quiz #</th>\n",
       "      <th>Student ID</th>\n",
       "      <th>Coding Problem</th>\n",
       "      <th>Score</th>\n",
       "      <th>Maximum</th>\n",
       "      <th>Distance</th>\n",
       "      <th>Percent</th>\n",
       "      <th>Distance Z-score</th>\n",
       "      <th>Distance Min-Max Scaled</th>\n",
       "    </tr>\n",
       "  </thead>\n",
       "  <tbody>\n",
       "    <tr>\n",
       "      <th>0</th>\n",
       "      <td>2017</td>\n",
       "      <td>fall</td>\n",
       "      <td>quiz06</td>\n",
       "      <td>s159c1ea3</td>\n",
       "      <td>AllCharsExcept</td>\n",
       "      <td>3.0</td>\n",
       "      <td>5</td>\n",
       "      <td>44.719697</td>\n",
       "      <td>0.334183</td>\n",
       "      <td>-0.331719</td>\n",
       "      <td>0.089071</td>\n",
       "    </tr>\n",
       "    <tr>\n",
       "      <th>1</th>\n",
       "      <td>2017</td>\n",
       "      <td>fall</td>\n",
       "      <td>quiz06</td>\n",
       "      <td>s1a2bc1e2</td>\n",
       "      <td>AllCharsExcept</td>\n",
       "      <td>5.0</td>\n",
       "      <td>5</td>\n",
       "      <td>37.507576</td>\n",
       "      <td>0.280288</td>\n",
       "      <td>-0.688284</td>\n",
       "      <td>0.015336</td>\n",
       "    </tr>\n",
       "    <tr>\n",
       "      <th>2</th>\n",
       "      <td>2017</td>\n",
       "      <td>fall</td>\n",
       "      <td>quiz06</td>\n",
       "      <td>s1a748834</td>\n",
       "      <td>AllCharsExcept</td>\n",
       "      <td>5.0</td>\n",
       "      <td>5</td>\n",
       "      <td>37.681818</td>\n",
       "      <td>0.281590</td>\n",
       "      <td>-0.679670</td>\n",
       "      <td>0.017117</td>\n",
       "    </tr>\n",
       "    <tr>\n",
       "      <th>3</th>\n",
       "      <td>2017</td>\n",
       "      <td>fall</td>\n",
       "      <td>quiz06</td>\n",
       "      <td>s204527a1</td>\n",
       "      <td>AllCharsExcept</td>\n",
       "      <td>5.0</td>\n",
       "      <td>5</td>\n",
       "      <td>48.295455</td>\n",
       "      <td>0.360904</td>\n",
       "      <td>-0.154934</td>\n",
       "      <td>0.125629</td>\n",
       "    </tr>\n",
       "    <tr>\n",
       "      <th>4</th>\n",
       "      <td>2017</td>\n",
       "      <td>fall</td>\n",
       "      <td>quiz06</td>\n",
       "      <td>s20ffbd50</td>\n",
       "      <td>AllCharsExcept</td>\n",
       "      <td>5.0</td>\n",
       "      <td>5</td>\n",
       "      <td>133.818182</td>\n",
       "      <td>1.000000</td>\n",
       "      <td>4.073288</td>\n",
       "      <td>1.000000</td>\n",
       "    </tr>\n",
       "    <tr>\n",
       "      <th>...</th>\n",
       "      <td>...</td>\n",
       "      <td>...</td>\n",
       "      <td>...</td>\n",
       "      <td>...</td>\n",
       "      <td>...</td>\n",
       "      <td>...</td>\n",
       "      <td>...</td>\n",
       "      <td>...</td>\n",
       "      <td>...</td>\n",
       "      <td>...</td>\n",
       "      <td>...</td>\n",
       "    </tr>\n",
       "    <tr>\n",
       "      <th>235</th>\n",
       "      <td>2018</td>\n",
       "      <td>fall</td>\n",
       "      <td>quiz11</td>\n",
       "      <td>sf1f60f2f</td>\n",
       "      <td>WriteAndGrade</td>\n",
       "      <td>50.0</td>\n",
       "      <td>50</td>\n",
       "      <td>200.698745</td>\n",
       "      <td>0.335913</td>\n",
       "      <td>-0.738330</td>\n",
       "      <td>0.048055</td>\n",
       "    </tr>\n",
       "    <tr>\n",
       "      <th>236</th>\n",
       "      <td>2018</td>\n",
       "      <td>fall</td>\n",
       "      <td>quiz11</td>\n",
       "      <td>sf39b2f6f</td>\n",
       "      <td>WriteAndGrade</td>\n",
       "      <td>50.0</td>\n",
       "      <td>50</td>\n",
       "      <td>221.213389</td>\n",
       "      <td>0.370248</td>\n",
       "      <td>-0.504492</td>\n",
       "      <td>0.097274</td>\n",
       "    </tr>\n",
       "    <tr>\n",
       "      <th>237</th>\n",
       "      <td>2018</td>\n",
       "      <td>fall</td>\n",
       "      <td>quiz11</td>\n",
       "      <td>sf80872c6</td>\n",
       "      <td>WriteAndGrade</td>\n",
       "      <td>49.0</td>\n",
       "      <td>50</td>\n",
       "      <td>357.129707</td>\n",
       "      <td>0.597734</td>\n",
       "      <td>1.044761</td>\n",
       "      <td>0.423366</td>\n",
       "    </tr>\n",
       "    <tr>\n",
       "      <th>238</th>\n",
       "      <td>2018</td>\n",
       "      <td>fall</td>\n",
       "      <td>quiz11</td>\n",
       "      <td>sfce0219</td>\n",
       "      <td>WriteAndGrade</td>\n",
       "      <td>37.0</td>\n",
       "      <td>50</td>\n",
       "      <td>209.790795</td>\n",
       "      <td>0.351130</td>\n",
       "      <td>-0.634693</td>\n",
       "      <td>0.069868</td>\n",
       "    </tr>\n",
       "    <tr>\n",
       "      <th>239</th>\n",
       "      <td>2018</td>\n",
       "      <td>fall</td>\n",
       "      <td>quiz11</td>\n",
       "      <td>sfe32615d</td>\n",
       "      <td>WriteAndGrade</td>\n",
       "      <td>44.0</td>\n",
       "      <td>50</td>\n",
       "      <td>247.246862</td>\n",
       "      <td>0.413821</td>\n",
       "      <td>-0.207747</td>\n",
       "      <td>0.159733</td>\n",
       "    </tr>\n",
       "  </tbody>\n",
       "</table>\n",
       "<p>19284 rows × 11 columns</p>\n",
       "</div>"
      ],
      "text/plain": [
       "     Year Semester  Quiz # Student ID  Coding Problem  Score  Maximum  \\\n",
       "0    2017     fall  quiz06  s159c1ea3  AllCharsExcept    3.0        5   \n",
       "1    2017     fall  quiz06  s1a2bc1e2  AllCharsExcept    5.0        5   \n",
       "2    2017     fall  quiz06  s1a748834  AllCharsExcept    5.0        5   \n",
       "3    2017     fall  quiz06  s204527a1  AllCharsExcept    5.0        5   \n",
       "4    2017     fall  quiz06  s20ffbd50  AllCharsExcept    5.0        5   \n",
       "..    ...      ...     ...        ...             ...    ...      ...   \n",
       "235  2018     fall  quiz11  sf1f60f2f   WriteAndGrade   50.0       50   \n",
       "236  2018     fall  quiz11  sf39b2f6f   WriteAndGrade   50.0       50   \n",
       "237  2018     fall  quiz11  sf80872c6   WriteAndGrade   49.0       50   \n",
       "238  2018     fall  quiz11   sfce0219   WriteAndGrade   37.0       50   \n",
       "239  2018     fall  quiz11  sfe32615d   WriteAndGrade   44.0       50   \n",
       "\n",
       "       Distance   Percent  Distance Z-score  Distance Min-Max Scaled  \n",
       "0     44.719697  0.334183         -0.331719                 0.089071  \n",
       "1     37.507576  0.280288         -0.688284                 0.015336  \n",
       "2     37.681818  0.281590         -0.679670                 0.017117  \n",
       "3     48.295455  0.360904         -0.154934                 0.125629  \n",
       "4    133.818182  1.000000          4.073288                 1.000000  \n",
       "..          ...       ...               ...                      ...  \n",
       "235  200.698745  0.335913         -0.738330                 0.048055  \n",
       "236  221.213389  0.370248         -0.504492                 0.097274  \n",
       "237  357.129707  0.597734          1.044761                 0.423366  \n",
       "238  209.790795  0.351130         -0.634693                 0.069868  \n",
       "239  247.246862  0.413821         -0.207747                 0.159733  \n",
       "\n",
       "[19284 rows x 11 columns]"
      ]
     },
     "execution_count": 8,
     "metadata": {},
     "output_type": "execute_result"
    }
   ],
   "source": [
    "allData2"
   ]
  },
  {
   "cell_type": "code",
   "execution_count": 10,
   "id": "baa081a7",
   "metadata": {},
   "outputs": [],
   "source": [
    "H = hopkins_statistic(all_zscores)"
   ]
  },
  {
   "cell_type": "code",
   "execution_count": 13,
   "id": "d73bc7fe",
   "metadata": {},
   "outputs": [
    {
     "data": {
      "text/plain": [
       "0.9971425738069264"
      ]
     },
     "execution_count": 13,
     "metadata": {},
     "output_type": "execute_result"
    }
   ],
   "source": [
    "# for average Hopkins Statistic\n",
    "l = []\n",
    "for i in range(20):\n",
    "    H=hopkins_statistic(all_zscores)\n",
    "    l.append(H)\n",
    "\n",
    "np.mean(l)"
   ]
  },
  {
   "cell_type": "markdown",
   "id": "c0653776",
   "metadata": {},
   "source": [
    "### Hopkins Statistics for Correct Problems Only"
   ]
  },
  {
   "cell_type": "code",
   "execution_count": 14,
   "id": "6763c171",
   "metadata": {},
   "outputs": [],
   "source": [
    "os.chdir(\"C:/Users/Elijah/Desktop/results-only-full-scores\")\n",
    "fullScoreData = pd.DataFrame()\n",
    "for filename in os.listdir(os.getcwd()):\n",
    "    file = pd.read_csv(filename)\n",
    "    fullScoreData = pd.concat([fullScoreData, file])"
   ]
  },
  {
   "cell_type": "code",
   "execution_count": 16,
   "id": "42cd2e7f",
   "metadata": {},
   "outputs": [],
   "source": [
    "fullScoreData2 = fullScoreData.drop(fullScoreData.columns[0], axis=1)"
   ]
  },
  {
   "cell_type": "code",
   "execution_count": 18,
   "id": "788085ba",
   "metadata": {},
   "outputs": [],
   "source": [
    "fullscore_zscores = fullScoreData2.loc[:, ['Distance Z-score']]"
   ]
  },
  {
   "cell_type": "code",
   "execution_count": 19,
   "id": "8671913b",
   "metadata": {},
   "outputs": [],
   "source": [
    "H = hopkins_statistic(fullscore_zscores)"
   ]
  },
  {
   "cell_type": "code",
   "execution_count": 21,
   "id": "623e3fed",
   "metadata": {},
   "outputs": [
    {
     "data": {
      "text/plain": [
       "0.9950216665530455"
      ]
     },
     "execution_count": 21,
     "metadata": {},
     "output_type": "execute_result"
    }
   ],
   "source": [
    "# for average Hopkins Statistic\n",
    "l = []\n",
    "for i in range(20):\n",
    "    H=hopkins_statistic(all_zscores)\n",
    "    l.append(H)\n",
    "\n",
    "np.mean(l)"
   ]
  },
  {
   "cell_type": "markdown",
   "id": "5d0847d8",
   "metadata": {},
   "source": [
    "### Hopkins Statistics for Data Including 0 Score & Within 25-75 Quartile"
   ]
  },
  {
   "cell_type": "code",
   "execution_count": 4,
   "id": "b6f6f226",
   "metadata": {},
   "outputs": [],
   "source": [
    "os.chdir(\"C:/Users/Elijah/Documents/GitHub/code-to-ast/data-analysis\")\n",
    "quart_data = pd.read_csv(\"25-75QuartileStudentData.csv\")"
   ]
  },
  {
   "cell_type": "code",
   "execution_count": 9,
   "id": "41bde43a",
   "metadata": {},
   "outputs": [],
   "source": [
    "student_list = quart_data['Student ID'].to_list()"
   ]
  },
  {
   "cell_type": "code",
   "execution_count": 18,
   "id": "3b89b833",
   "metadata": {},
   "outputs": [],
   "source": [
    "data = allData2[allData2['Student ID'].isin(student_list)]"
   ]
  },
  {
   "cell_type": "code",
   "execution_count": 20,
   "id": "1fa85859",
   "metadata": {},
   "outputs": [],
   "source": [
    "data_final = data.loc[:, ['Distance Z-score']]"
   ]
  },
  {
   "cell_type": "code",
   "execution_count": 22,
   "id": "7fdbabef",
   "metadata": {},
   "outputs": [
    {
     "data": {
      "text/plain": [
       "0.9894995488997429"
      ]
     },
     "execution_count": 22,
     "metadata": {},
     "output_type": "execute_result"
    }
   ],
   "source": [
    "# for average Hopkins Statistic for 25-75 Quartile\n",
    "l = []\n",
    "for i in range(20):\n",
    "    H=hopkins_statistic(data_final)\n",
    "    l.append(H)\n",
    "\n",
    "np.mean(l)"
   ]
  },
  {
   "cell_type": "code",
   "execution_count": 23,
   "id": "c057a7d5",
   "metadata": {},
   "outputs": [
    {
     "data": {
      "text/plain": [
       "0.9726714649200251"
      ]
     },
     "execution_count": 23,
     "metadata": {},
     "output_type": "execute_result"
    }
   ],
   "source": [
    "hopkins_statistic(data_final)"
   ]
  },
  {
   "cell_type": "markdown",
   "id": "3241b416",
   "metadata": {},
   "source": [
    "### Hopkins Statistics for 0-25 & 75-100 Quartiles"
   ]
  },
  {
   "cell_type": "code",
   "execution_count": 4,
   "id": "eb2214ce",
   "metadata": {},
   "outputs": [],
   "source": [
    "os.chdir(\"C:/Users/Elijah/Documents/GitHub/code-to-ast/data-analysis\")\n",
    "low_quart = pd.read_csv(\"0-25QuartileStudentData.csv\")\n",
    "high_quart = pd.read_csv(\"75-100QuartileStudentData.csv\")"
   ]
  },
  {
   "cell_type": "code",
   "execution_count": 9,
   "id": "d71a4513",
   "metadata": {},
   "outputs": [],
   "source": [
    "low_student_list = low_quart['Student ID'].to_list()\n",
    "high_student_list = high_quart['Student ID'].to_list()\n",
    "low_data = allData2[allData2['Student ID'].isin(low_student_list)]\n",
    "high_data = allData2[allData2['Student ID'].isin(high_student_list)]"
   ]
  },
  {
   "cell_type": "code",
   "execution_count": 10,
   "id": "cc89619b",
   "metadata": {},
   "outputs": [],
   "source": [
    "low_data_final = low_data.loc[:, ['Distance Z-score']]\n",
    "high_data_final = high_data.loc[:, ['Distance Z-score']]"
   ]
  },
  {
   "cell_type": "code",
   "execution_count": 11,
   "id": "cab40a3b",
   "metadata": {},
   "outputs": [
    {
     "data": {
      "text/plain": [
       "0.9914030457402532"
      ]
     },
     "execution_count": 11,
     "metadata": {},
     "output_type": "execute_result"
    }
   ],
   "source": [
    "# for average Hopkins Statistic for 0-25 quartile\n",
    "l = []\n",
    "for i in range(20):\n",
    "    H=hopkins_statistic(low_data_final)\n",
    "    l.append(H)\n",
    "\n",
    "np.mean(l)"
   ]
  },
  {
   "cell_type": "code",
   "execution_count": 12,
   "id": "68a0bb73",
   "metadata": {},
   "outputs": [
    {
     "data": {
      "text/plain": [
       "0.9826367472445213"
      ]
     },
     "execution_count": 12,
     "metadata": {},
     "output_type": "execute_result"
    }
   ],
   "source": [
    "# for average Hopkins Statistic for 75-100 quartile\n",
    "l = []\n",
    "for i in range(20):\n",
    "    H=hopkins_statistic(high_data_final)\n",
    "    l.append(H)\n",
    "\n",
    "np.mean(l)"
   ]
  }
 ],
 "metadata": {
  "kernelspec": {
   "display_name": "Python 3",
   "language": "python",
   "name": "python3"
  },
  "language_info": {
   "codemirror_mode": {
    "name": "ipython",
    "version": 3
   },
   "file_extension": ".py",
   "mimetype": "text/x-python",
   "name": "python",
   "nbconvert_exporter": "python",
   "pygments_lexer": "ipython3",
   "version": "3.8.8"
  }
 },
 "nbformat": 4,
 "nbformat_minor": 5
}
