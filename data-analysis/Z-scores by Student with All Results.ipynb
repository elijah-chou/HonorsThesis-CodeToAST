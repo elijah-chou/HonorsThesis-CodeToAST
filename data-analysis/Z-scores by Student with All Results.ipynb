{
 "cells": [
  {
   "cell_type": "code",
   "execution_count": 1,
   "id": "1ea5570d",
   "metadata": {},
   "outputs": [],
   "source": [
    "import pandas as pd\n",
    "import numpy as np\n",
    "import matplotlib.pyplot as plt\n",
    "from scipy.stats import pearsonr\n",
    "import os\n",
    "%matplotlib inline"
   ]
  },
  {
   "cell_type": "code",
   "execution_count": 3,
   "id": "436718aa",
   "metadata": {},
   "outputs": [],
   "source": [
    "os.chdir(\"C:/Users/Elijah/Desktop/results-including-0-scores\")\n",
    "allData = pd.DataFrame()\n",
    "for filename in os.listdir(os.getcwd()):\n",
    "    file = pd.read_csv(filename)\n",
    "    allData = pd.concat([allData, file])"
   ]
  },
  {
   "cell_type": "code",
   "execution_count": 4,
   "id": "d05ea466",
   "metadata": {},
   "outputs": [
    {
     "data": {
      "text/html": [
       "<div>\n",
       "<style scoped>\n",
       "    .dataframe tbody tr th:only-of-type {\n",
       "        vertical-align: middle;\n",
       "    }\n",
       "\n",
       "    .dataframe tbody tr th {\n",
       "        vertical-align: top;\n",
       "    }\n",
       "\n",
       "    .dataframe thead th {\n",
       "        text-align: right;\n",
       "    }\n",
       "</style>\n",
       "<table border=\"1\" class=\"dataframe\">\n",
       "  <thead>\n",
       "    <tr style=\"text-align: right;\">\n",
       "      <th></th>\n",
       "      <th>Unnamed: 0</th>\n",
       "      <th>Unnamed: 0.1</th>\n",
       "      <th>Year</th>\n",
       "      <th>Semester</th>\n",
       "      <th>Quiz #</th>\n",
       "      <th>Student ID</th>\n",
       "      <th>Coding Problem</th>\n",
       "      <th>Score</th>\n",
       "      <th>Maximum</th>\n",
       "      <th>Distance</th>\n",
       "      <th>Percent</th>\n",
       "      <th>Distance Z-score</th>\n",
       "      <th>Distance Min-Max Scaled</th>\n",
       "    </tr>\n",
       "  </thead>\n",
       "  <tbody>\n",
       "    <tr>\n",
       "      <th>0</th>\n",
       "      <td>0</td>\n",
       "      <td>0</td>\n",
       "      <td>2017</td>\n",
       "      <td>fall</td>\n",
       "      <td>quiz06</td>\n",
       "      <td>s159c1ea3</td>\n",
       "      <td>AllCharsExcept</td>\n",
       "      <td>3.0</td>\n",
       "      <td>5</td>\n",
       "      <td>44.719697</td>\n",
       "      <td>0.334183</td>\n",
       "      <td>-0.331719</td>\n",
       "      <td>0.089071</td>\n",
       "    </tr>\n",
       "    <tr>\n",
       "      <th>1</th>\n",
       "      <td>1</td>\n",
       "      <td>1</td>\n",
       "      <td>2017</td>\n",
       "      <td>fall</td>\n",
       "      <td>quiz06</td>\n",
       "      <td>s1a2bc1e2</td>\n",
       "      <td>AllCharsExcept</td>\n",
       "      <td>5.0</td>\n",
       "      <td>5</td>\n",
       "      <td>37.507576</td>\n",
       "      <td>0.280288</td>\n",
       "      <td>-0.688284</td>\n",
       "      <td>0.015336</td>\n",
       "    </tr>\n",
       "    <tr>\n",
       "      <th>2</th>\n",
       "      <td>2</td>\n",
       "      <td>2</td>\n",
       "      <td>2017</td>\n",
       "      <td>fall</td>\n",
       "      <td>quiz06</td>\n",
       "      <td>s1a748834</td>\n",
       "      <td>AllCharsExcept</td>\n",
       "      <td>5.0</td>\n",
       "      <td>5</td>\n",
       "      <td>37.681818</td>\n",
       "      <td>0.281590</td>\n",
       "      <td>-0.679670</td>\n",
       "      <td>0.017117</td>\n",
       "    </tr>\n",
       "    <tr>\n",
       "      <th>3</th>\n",
       "      <td>3</td>\n",
       "      <td>3</td>\n",
       "      <td>2017</td>\n",
       "      <td>fall</td>\n",
       "      <td>quiz06</td>\n",
       "      <td>s204527a1</td>\n",
       "      <td>AllCharsExcept</td>\n",
       "      <td>5.0</td>\n",
       "      <td>5</td>\n",
       "      <td>48.295455</td>\n",
       "      <td>0.360904</td>\n",
       "      <td>-0.154934</td>\n",
       "      <td>0.125629</td>\n",
       "    </tr>\n",
       "    <tr>\n",
       "      <th>4</th>\n",
       "      <td>4</td>\n",
       "      <td>4</td>\n",
       "      <td>2017</td>\n",
       "      <td>fall</td>\n",
       "      <td>quiz06</td>\n",
       "      <td>s20ffbd50</td>\n",
       "      <td>AllCharsExcept</td>\n",
       "      <td>5.0</td>\n",
       "      <td>5</td>\n",
       "      <td>133.818182</td>\n",
       "      <td>1.000000</td>\n",
       "      <td>4.073288</td>\n",
       "      <td>1.000000</td>\n",
       "    </tr>\n",
       "    <tr>\n",
       "      <th>...</th>\n",
       "      <td>...</td>\n",
       "      <td>...</td>\n",
       "      <td>...</td>\n",
       "      <td>...</td>\n",
       "      <td>...</td>\n",
       "      <td>...</td>\n",
       "      <td>...</td>\n",
       "      <td>...</td>\n",
       "      <td>...</td>\n",
       "      <td>...</td>\n",
       "      <td>...</td>\n",
       "      <td>...</td>\n",
       "      <td>...</td>\n",
       "    </tr>\n",
       "    <tr>\n",
       "      <th>235</th>\n",
       "      <td>235</td>\n",
       "      <td>235</td>\n",
       "      <td>2018</td>\n",
       "      <td>fall</td>\n",
       "      <td>quiz11</td>\n",
       "      <td>sf1f60f2f</td>\n",
       "      <td>WriteAndGrade</td>\n",
       "      <td>50.0</td>\n",
       "      <td>50</td>\n",
       "      <td>200.698745</td>\n",
       "      <td>0.335913</td>\n",
       "      <td>-0.738330</td>\n",
       "      <td>0.048055</td>\n",
       "    </tr>\n",
       "    <tr>\n",
       "      <th>236</th>\n",
       "      <td>236</td>\n",
       "      <td>236</td>\n",
       "      <td>2018</td>\n",
       "      <td>fall</td>\n",
       "      <td>quiz11</td>\n",
       "      <td>sf39b2f6f</td>\n",
       "      <td>WriteAndGrade</td>\n",
       "      <td>50.0</td>\n",
       "      <td>50</td>\n",
       "      <td>221.213389</td>\n",
       "      <td>0.370248</td>\n",
       "      <td>-0.504492</td>\n",
       "      <td>0.097274</td>\n",
       "    </tr>\n",
       "    <tr>\n",
       "      <th>237</th>\n",
       "      <td>237</td>\n",
       "      <td>237</td>\n",
       "      <td>2018</td>\n",
       "      <td>fall</td>\n",
       "      <td>quiz11</td>\n",
       "      <td>sf80872c6</td>\n",
       "      <td>WriteAndGrade</td>\n",
       "      <td>49.0</td>\n",
       "      <td>50</td>\n",
       "      <td>357.129707</td>\n",
       "      <td>0.597734</td>\n",
       "      <td>1.044761</td>\n",
       "      <td>0.423366</td>\n",
       "    </tr>\n",
       "    <tr>\n",
       "      <th>238</th>\n",
       "      <td>238</td>\n",
       "      <td>238</td>\n",
       "      <td>2018</td>\n",
       "      <td>fall</td>\n",
       "      <td>quiz11</td>\n",
       "      <td>sfce0219</td>\n",
       "      <td>WriteAndGrade</td>\n",
       "      <td>37.0</td>\n",
       "      <td>50</td>\n",
       "      <td>209.790795</td>\n",
       "      <td>0.351130</td>\n",
       "      <td>-0.634693</td>\n",
       "      <td>0.069868</td>\n",
       "    </tr>\n",
       "    <tr>\n",
       "      <th>239</th>\n",
       "      <td>239</td>\n",
       "      <td>239</td>\n",
       "      <td>2018</td>\n",
       "      <td>fall</td>\n",
       "      <td>quiz11</td>\n",
       "      <td>sfe32615d</td>\n",
       "      <td>WriteAndGrade</td>\n",
       "      <td>44.0</td>\n",
       "      <td>50</td>\n",
       "      <td>247.246862</td>\n",
       "      <td>0.413821</td>\n",
       "      <td>-0.207747</td>\n",
       "      <td>0.159733</td>\n",
       "    </tr>\n",
       "  </tbody>\n",
       "</table>\n",
       "<p>19284 rows × 13 columns</p>\n",
       "</div>"
      ],
      "text/plain": [
       "     Unnamed: 0  Unnamed: 0.1  Year Semester  Quiz # Student ID  \\\n",
       "0             0             0  2017     fall  quiz06  s159c1ea3   \n",
       "1             1             1  2017     fall  quiz06  s1a2bc1e2   \n",
       "2             2             2  2017     fall  quiz06  s1a748834   \n",
       "3             3             3  2017     fall  quiz06  s204527a1   \n",
       "4             4             4  2017     fall  quiz06  s20ffbd50   \n",
       "..          ...           ...   ...      ...     ...        ...   \n",
       "235         235           235  2018     fall  quiz11  sf1f60f2f   \n",
       "236         236           236  2018     fall  quiz11  sf39b2f6f   \n",
       "237         237           237  2018     fall  quiz11  sf80872c6   \n",
       "238         238           238  2018     fall  quiz11   sfce0219   \n",
       "239         239           239  2018     fall  quiz11  sfe32615d   \n",
       "\n",
       "     Coding Problem  Score  Maximum    Distance   Percent  Distance Z-score  \\\n",
       "0    AllCharsExcept    3.0        5   44.719697  0.334183         -0.331719   \n",
       "1    AllCharsExcept    5.0        5   37.507576  0.280288         -0.688284   \n",
       "2    AllCharsExcept    5.0        5   37.681818  0.281590         -0.679670   \n",
       "3    AllCharsExcept    5.0        5   48.295455  0.360904         -0.154934   \n",
       "4    AllCharsExcept    5.0        5  133.818182  1.000000          4.073288   \n",
       "..              ...    ...      ...         ...       ...               ...   \n",
       "235   WriteAndGrade   50.0       50  200.698745  0.335913         -0.738330   \n",
       "236   WriteAndGrade   50.0       50  221.213389  0.370248         -0.504492   \n",
       "237   WriteAndGrade   49.0       50  357.129707  0.597734          1.044761   \n",
       "238   WriteAndGrade   37.0       50  209.790795  0.351130         -0.634693   \n",
       "239   WriteAndGrade   44.0       50  247.246862  0.413821         -0.207747   \n",
       "\n",
       "     Distance Min-Max Scaled  \n",
       "0                   0.089071  \n",
       "1                   0.015336  \n",
       "2                   0.017117  \n",
       "3                   0.125629  \n",
       "4                   1.000000  \n",
       "..                       ...  \n",
       "235                 0.048055  \n",
       "236                 0.097274  \n",
       "237                 0.423366  \n",
       "238                 0.069868  \n",
       "239                 0.159733  \n",
       "\n",
       "[19284 rows x 13 columns]"
      ]
     },
     "execution_count": 4,
     "metadata": {},
     "output_type": "execute_result"
    }
   ],
   "source": [
    "allData"
   ]
  },
  {
   "cell_type": "code",
   "execution_count": 5,
   "id": "f1fed51c",
   "metadata": {},
   "outputs": [],
   "source": [
    "allData2 = allData.drop(allData.columns[[0,1]], axis=1)"
   ]
  },
  {
   "cell_type": "code",
   "execution_count": 6,
   "id": "e9dcd38d",
   "metadata": {
    "scrolled": false
   },
   "outputs": [
    {
     "data": {
      "text/plain": [
       "Year                         int64\n",
       "Semester                    object\n",
       "Quiz #                      object\n",
       "Student ID                  object\n",
       "Coding Problem              object\n",
       "Score                      float64\n",
       "Maximum                      int64\n",
       "Distance                   float64\n",
       "Percent                    float64\n",
       "Distance Z-score           float64\n",
       "Distance Min-Max Scaled    float64\n",
       "dtype: object"
      ]
     },
     "execution_count": 6,
     "metadata": {},
     "output_type": "execute_result"
    }
   ],
   "source": [
    "allData2.dtypes"
   ]
  },
  {
   "cell_type": "code",
   "execution_count": 6,
   "id": "4ac2beb1",
   "metadata": {},
   "outputs": [],
   "source": [
    "# This line of code is only to export all data we have \n",
    "# allData2.to_csv(\"allStudentProgramsDataWith0Score.csv\")"
   ]
  },
  {
   "cell_type": "code",
   "execution_count": 7,
   "id": "8f1b88a8",
   "metadata": {},
   "outputs": [],
   "source": [
    "students_mean = allData2.groupby(\"Student ID\").mean()"
   ]
  },
  {
   "cell_type": "code",
   "execution_count": 8,
   "id": "82c52276",
   "metadata": {},
   "outputs": [],
   "source": [
    "zscore = students_mean.loc[:, ['Distance Z-score', 'Distance Min-Max Scaled']]"
   ]
  },
  {
   "cell_type": "code",
   "execution_count": 9,
   "id": "48f16fc1",
   "metadata": {},
   "outputs": [],
   "source": [
    "students_sum = allData2.groupby(\"Student ID\").sum()"
   ]
  },
  {
   "cell_type": "code",
   "execution_count": 10,
   "id": "39d0f8bf",
   "metadata": {},
   "outputs": [],
   "source": [
    "grades = students_sum.loc[:, ['Score', 'Maximum']]"
   ]
  },
  {
   "cell_type": "code",
   "execution_count": 11,
   "id": "dc033f95",
   "metadata": {},
   "outputs": [],
   "source": [
    "students = zscore.join(grades)"
   ]
  },
  {
   "cell_type": "code",
   "execution_count": 12,
   "id": "843b0344",
   "metadata": {
    "scrolled": false
   },
   "outputs": [],
   "source": [
    "students[\"Score / Maximum %\"] = students['Score'] / students['Maximum']"
   ]
  },
  {
   "cell_type": "code",
   "execution_count": 13,
   "id": "16a70ae1",
   "metadata": {
    "scrolled": true
   },
   "outputs": [
    {
     "data": {
      "text/html": [
       "<div>\n",
       "<style scoped>\n",
       "    .dataframe tbody tr th:only-of-type {\n",
       "        vertical-align: middle;\n",
       "    }\n",
       "\n",
       "    .dataframe tbody tr th {\n",
       "        vertical-align: top;\n",
       "    }\n",
       "\n",
       "    .dataframe thead th {\n",
       "        text-align: right;\n",
       "    }\n",
       "</style>\n",
       "<table border=\"1\" class=\"dataframe\">\n",
       "  <thead>\n",
       "    <tr style=\"text-align: right;\">\n",
       "      <th></th>\n",
       "      <th>Distance Z-score</th>\n",
       "      <th>Distance Min-Max Scaled</th>\n",
       "      <th>Score</th>\n",
       "      <th>Maximum</th>\n",
       "      <th>Score / Maximum %</th>\n",
       "    </tr>\n",
       "    <tr>\n",
       "      <th>Student ID</th>\n",
       "      <th></th>\n",
       "      <th></th>\n",
       "      <th></th>\n",
       "      <th></th>\n",
       "      <th></th>\n",
       "    </tr>\n",
       "  </thead>\n",
       "  <tbody>\n",
       "    <tr>\n",
       "      <th>s1041b5c9</th>\n",
       "      <td>0.762457</td>\n",
       "      <td>0.348605</td>\n",
       "      <td>51.0</td>\n",
       "      <td>200</td>\n",
       "      <td>0.255000</td>\n",
       "    </tr>\n",
       "    <tr>\n",
       "      <th>s1052bd77</th>\n",
       "      <td>0.214526</td>\n",
       "      <td>0.292264</td>\n",
       "      <td>13.0</td>\n",
       "      <td>81</td>\n",
       "      <td>0.160494</td>\n",
       "    </tr>\n",
       "    <tr>\n",
       "      <th>s106e6058</th>\n",
       "      <td>-0.055967</td>\n",
       "      <td>0.166713</td>\n",
       "      <td>122.0</td>\n",
       "      <td>164</td>\n",
       "      <td>0.743902</td>\n",
       "    </tr>\n",
       "    <tr>\n",
       "      <th>s116f876e</th>\n",
       "      <td>-0.200226</td>\n",
       "      <td>0.157200</td>\n",
       "      <td>263.0</td>\n",
       "      <td>299</td>\n",
       "      <td>0.879599</td>\n",
       "    </tr>\n",
       "    <tr>\n",
       "      <th>s1187ca0f</th>\n",
       "      <td>1.748974</td>\n",
       "      <td>0.420951</td>\n",
       "      <td>0.0</td>\n",
       "      <td>50</td>\n",
       "      <td>0.000000</td>\n",
       "    </tr>\n",
       "    <tr>\n",
       "      <th>...</th>\n",
       "      <td>...</td>\n",
       "      <td>...</td>\n",
       "      <td>...</td>\n",
       "      <td>...</td>\n",
       "      <td>...</td>\n",
       "    </tr>\n",
       "    <tr>\n",
       "      <th>sfeb87ba8</th>\n",
       "      <td>-0.022967</td>\n",
       "      <td>0.179125</td>\n",
       "      <td>105.0</td>\n",
       "      <td>174</td>\n",
       "      <td>0.603448</td>\n",
       "    </tr>\n",
       "    <tr>\n",
       "      <th>sfeb9f2b1</th>\n",
       "      <td>-0.346523</td>\n",
       "      <td>0.118333</td>\n",
       "      <td>283.0</td>\n",
       "      <td>294</td>\n",
       "      <td>0.962585</td>\n",
       "    </tr>\n",
       "    <tr>\n",
       "      <th>sfefcd29e</th>\n",
       "      <td>-0.372204</td>\n",
       "      <td>0.105349</td>\n",
       "      <td>144.0</td>\n",
       "      <td>254</td>\n",
       "      <td>0.566929</td>\n",
       "    </tr>\n",
       "    <tr>\n",
       "      <th>sff6cfe28</th>\n",
       "      <td>-0.306760</td>\n",
       "      <td>0.116633</td>\n",
       "      <td>289.0</td>\n",
       "      <td>299</td>\n",
       "      <td>0.966555</td>\n",
       "    </tr>\n",
       "    <tr>\n",
       "      <th>sffae1858</th>\n",
       "      <td>-0.266476</td>\n",
       "      <td>0.125698</td>\n",
       "      <td>234.0</td>\n",
       "      <td>264</td>\n",
       "      <td>0.886364</td>\n",
       "    </tr>\n",
       "  </tbody>\n",
       "</table>\n",
       "<p>867 rows × 5 columns</p>\n",
       "</div>"
      ],
      "text/plain": [
       "            Distance Z-score  Distance Min-Max Scaled  Score  Maximum  \\\n",
       "Student ID                                                              \n",
       "s1041b5c9           0.762457                 0.348605   51.0      200   \n",
       "s1052bd77           0.214526                 0.292264   13.0       81   \n",
       "s106e6058          -0.055967                 0.166713  122.0      164   \n",
       "s116f876e          -0.200226                 0.157200  263.0      299   \n",
       "s1187ca0f           1.748974                 0.420951    0.0       50   \n",
       "...                      ...                      ...    ...      ...   \n",
       "sfeb87ba8          -0.022967                 0.179125  105.0      174   \n",
       "sfeb9f2b1          -0.346523                 0.118333  283.0      294   \n",
       "sfefcd29e          -0.372204                 0.105349  144.0      254   \n",
       "sff6cfe28          -0.306760                 0.116633  289.0      299   \n",
       "sffae1858          -0.266476                 0.125698  234.0      264   \n",
       "\n",
       "            Score / Maximum %  \n",
       "Student ID                     \n",
       "s1041b5c9            0.255000  \n",
       "s1052bd77            0.160494  \n",
       "s106e6058            0.743902  \n",
       "s116f876e            0.879599  \n",
       "s1187ca0f            0.000000  \n",
       "...                       ...  \n",
       "sfeb87ba8            0.603448  \n",
       "sfeb9f2b1            0.962585  \n",
       "sfefcd29e            0.566929  \n",
       "sff6cfe28            0.966555  \n",
       "sffae1858            0.886364  \n",
       "\n",
       "[867 rows x 5 columns]"
      ]
     },
     "execution_count": 13,
     "metadata": {},
     "output_type": "execute_result"
    }
   ],
   "source": [
    "students"
   ]
  },
  {
   "cell_type": "code",
   "execution_count": 13,
   "id": "fc3e8447",
   "metadata": {},
   "outputs": [],
   "source": [
    "#students.to_csv(\"allStudentDataIncluding0Score.csv\")"
   ]
  },
  {
   "cell_type": "code",
   "execution_count": 14,
   "id": "e93b6bd9",
   "metadata": {},
   "outputs": [
    {
     "data": {
      "text/plain": [
       "-0.41905908734945946"
      ]
     },
     "execution_count": 14,
     "metadata": {},
     "output_type": "execute_result"
    }
   ],
   "source": [
    "students['Distance Z-score'].corr(students['Score / Maximum %'],method='pearson')"
   ]
  },
  {
   "cell_type": "code",
   "execution_count": 15,
   "id": "ef6149a2",
   "metadata": {
    "scrolled": true
   },
   "outputs": [
    {
     "data": {
      "text/plain": [
       "(-0.4190590873494591, 3.435514071043554e-38)"
      ]
     },
     "execution_count": 15,
     "metadata": {},
     "output_type": "execute_result"
    }
   ],
   "source": [
    "pearsonr(students['Distance Z-score'], students['Score / Maximum %'])"
   ]
  },
  {
   "cell_type": "code",
   "execution_count": 16,
   "id": "9f6dad50",
   "metadata": {
    "scrolled": true
   },
   "outputs": [
    {
     "data": {
      "image/png": "[encoded data removed]",
      "text/plain": [
       "<Figure size 432x288 with 1 Axes>"
      ]
     },
     "metadata": {
      "needs_background": "light"
     },
     "output_type": "display_data"
    }
   ],
   "source": [
    "x = students['Score / Maximum %']\n",
    "y = students['Distance Z-score']\n",
    "students.plot(x='Score / Maximum %', y='Distance Z-score', kind='scatter')\n",
    "plt.plot()\n",
    "m, b = np.polyfit(x, y, 1)\n",
    "plt.xlabel('Total Points Earned / Maximum Points Possible')\n",
    "plt.ylabel('Average Z-score of Tree Edit Distance')\n",
    "plt.plot(x, m*x+b, color='red')\n",
    "plt.savefig('C:/Users/Elijah/Documents/GitHub/code-to-ast/data-analysis/graphs/all_distance_vs_perf.png')"
   ]
  },
  {
   "cell_type": "markdown",
   "id": "52df79ca",
   "metadata": {},
   "source": [
    "## Comparing student average Z-score from full point implementations to student's overall performance in quizzes"
   ]
  },
  {
   "cell_type": "code",
   "execution_count": 17,
   "id": "a2825a98",
   "metadata": {},
   "outputs": [],
   "source": [
    "os.chdir(\"C:/Users/Elijah/Desktop/results-only-full-scores\")\n",
    "fullScoreData = pd.DataFrame()\n",
    "for filename in os.listdir(os.getcwd()):\n",
    "    file = pd.read_csv(filename)\n",
    "    fullScoreData = pd.concat([fullScoreData, file])"
   ]
  },
  {
   "cell_type": "code",
   "execution_count": 18,
   "id": "59671caf",
   "metadata": {
    "scrolled": true
   },
   "outputs": [
    {
     "data": {
      "text/html": [
       "<div>\n",
       "<style scoped>\n",
       "    .dataframe tbody tr th:only-of-type {\n",
       "        vertical-align: middle;\n",
       "    }\n",
       "\n",
       "    .dataframe tbody tr th {\n",
       "        vertical-align: top;\n",
       "    }\n",
       "\n",
       "    .dataframe thead th {\n",
       "        text-align: right;\n",
       "    }\n",
       "</style>\n",
       "<table border=\"1\" class=\"dataframe\">\n",
       "  <thead>\n",
       "    <tr style=\"text-align: right;\">\n",
       "      <th></th>\n",
       "      <th>Unnamed: 0</th>\n",
       "      <th>Year</th>\n",
       "      <th>Semester</th>\n",
       "      <th>Quiz #</th>\n",
       "      <th>Student ID</th>\n",
       "      <th>Coding Problem</th>\n",
       "      <th>Score</th>\n",
       "      <th>Maximum</th>\n",
       "      <th>Distance</th>\n",
       "      <th>Percent</th>\n",
       "      <th>Distance Z-score</th>\n",
       "      <th>Distance Min-Max Scaled</th>\n",
       "    </tr>\n",
       "  </thead>\n",
       "  <tbody>\n",
       "    <tr>\n",
       "      <th>0</th>\n",
       "      <td>0</td>\n",
       "      <td>2017</td>\n",
       "      <td>fall</td>\n",
       "      <td>quiz06</td>\n",
       "      <td>s1a2bc1e2</td>\n",
       "      <td>AllCharsExcept</td>\n",
       "      <td>5</td>\n",
       "      <td>5</td>\n",
       "      <td>35.053191</td>\n",
       "      <td>0.272878</td>\n",
       "      <td>-0.387510</td>\n",
       "      <td>0.050811</td>\n",
       "    </tr>\n",
       "    <tr>\n",
       "      <th>1</th>\n",
       "      <td>1</td>\n",
       "      <td>2017</td>\n",
       "      <td>fall</td>\n",
       "      <td>quiz06</td>\n",
       "      <td>s1a748834</td>\n",
       "      <td>AllCharsExcept</td>\n",
       "      <td>5</td>\n",
       "      <td>5</td>\n",
       "      <td>35.531915</td>\n",
       "      <td>0.276605</td>\n",
       "      <td>-0.364327</td>\n",
       "      <td>0.055676</td>\n",
       "    </tr>\n",
       "    <tr>\n",
       "      <th>2</th>\n",
       "      <td>2</td>\n",
       "      <td>2017</td>\n",
       "      <td>fall</td>\n",
       "      <td>quiz06</td>\n",
       "      <td>s204527a1</td>\n",
       "      <td>AllCharsExcept</td>\n",
       "      <td>5</td>\n",
       "      <td>5</td>\n",
       "      <td>40.319149</td>\n",
       "      <td>0.313872</td>\n",
       "      <td>-0.132494</td>\n",
       "      <td>0.104324</td>\n",
       "    </tr>\n",
       "    <tr>\n",
       "      <th>3</th>\n",
       "      <td>3</td>\n",
       "      <td>2017</td>\n",
       "      <td>fall</td>\n",
       "      <td>quiz06</td>\n",
       "      <td>s20ffbd50</td>\n",
       "      <td>AllCharsExcept</td>\n",
       "      <td>5</td>\n",
       "      <td>5</td>\n",
       "      <td>128.457447</td>\n",
       "      <td>1.000000</td>\n",
       "      <td>4.135801</td>\n",
       "      <td>1.000000</td>\n",
       "    </tr>\n",
       "    <tr>\n",
       "      <th>4</th>\n",
       "      <td>4</td>\n",
       "      <td>2017</td>\n",
       "      <td>fall</td>\n",
       "      <td>quiz06</td>\n",
       "      <td>s2d43f936</td>\n",
       "      <td>AllCharsExcept</td>\n",
       "      <td>5</td>\n",
       "      <td>5</td>\n",
       "      <td>88.053191</td>\n",
       "      <td>0.685466</td>\n",
       "      <td>2.179134</td>\n",
       "      <td>0.589405</td>\n",
       "    </tr>\n",
       "    <tr>\n",
       "      <th>...</th>\n",
       "      <td>...</td>\n",
       "      <td>...</td>\n",
       "      <td>...</td>\n",
       "      <td>...</td>\n",
       "      <td>...</td>\n",
       "      <td>...</td>\n",
       "      <td>...</td>\n",
       "      <td>...</td>\n",
       "      <td>...</td>\n",
       "      <td>...</td>\n",
       "      <td>...</td>\n",
       "      <td>...</td>\n",
       "    </tr>\n",
       "    <tr>\n",
       "      <th>103</th>\n",
       "      <td>103</td>\n",
       "      <td>2018</td>\n",
       "      <td>fall</td>\n",
       "      <td>quiz11</td>\n",
       "      <td>seb2c407c</td>\n",
       "      <td>WriteAndGrade</td>\n",
       "      <td>50</td>\n",
       "      <td>50</td>\n",
       "      <td>270.803738</td>\n",
       "      <td>0.698554</td>\n",
       "      <td>1.649165</td>\n",
       "      <td>0.566781</td>\n",
       "    </tr>\n",
       "    <tr>\n",
       "      <th>104</th>\n",
       "      <td>104</td>\n",
       "      <td>2018</td>\n",
       "      <td>fall</td>\n",
       "      <td>quiz11</td>\n",
       "      <td>see34afd4</td>\n",
       "      <td>WriteAndGrade</td>\n",
       "      <td>50</td>\n",
       "      <td>50</td>\n",
       "      <td>202.766355</td>\n",
       "      <td>0.523047</td>\n",
       "      <td>0.510975</td>\n",
       "      <td>0.314555</td>\n",
       "    </tr>\n",
       "    <tr>\n",
       "      <th>105</th>\n",
       "      <td>105</td>\n",
       "      <td>2018</td>\n",
       "      <td>fall</td>\n",
       "      <td>quiz11</td>\n",
       "      <td>sf0118345</td>\n",
       "      <td>WriteAndGrade</td>\n",
       "      <td>50</td>\n",
       "      <td>50</td>\n",
       "      <td>138.186916</td>\n",
       "      <td>0.356461</td>\n",
       "      <td>-0.569367</td>\n",
       "      <td>0.075148</td>\n",
       "    </tr>\n",
       "    <tr>\n",
       "      <th>106</th>\n",
       "      <td>106</td>\n",
       "      <td>2018</td>\n",
       "      <td>fall</td>\n",
       "      <td>quiz11</td>\n",
       "      <td>sf1f60f2f</td>\n",
       "      <td>WriteAndGrade</td>\n",
       "      <td>50</td>\n",
       "      <td>50</td>\n",
       "      <td>141.177570</td>\n",
       "      <td>0.364176</td>\n",
       "      <td>-0.519337</td>\n",
       "      <td>0.086235</td>\n",
       "    </tr>\n",
       "    <tr>\n",
       "      <th>107</th>\n",
       "      <td>107</td>\n",
       "      <td>2018</td>\n",
       "      <td>fall</td>\n",
       "      <td>quiz11</td>\n",
       "      <td>sf39b2f6f</td>\n",
       "      <td>WriteAndGrade</td>\n",
       "      <td>50</td>\n",
       "      <td>50</td>\n",
       "      <td>179.065421</td>\n",
       "      <td>0.461909</td>\n",
       "      <td>0.114485</td>\n",
       "      <td>0.226692</td>\n",
       "    </tr>\n",
       "  </tbody>\n",
       "</table>\n",
       "<p>12475 rows × 12 columns</p>\n",
       "</div>"
      ],
      "text/plain": [
       "     Unnamed: 0  Year Semester  Quiz # Student ID  Coding Problem  Score  \\\n",
       "0             0  2017     fall  quiz06  s1a2bc1e2  AllCharsExcept      5   \n",
       "1             1  2017     fall  quiz06  s1a748834  AllCharsExcept      5   \n",
       "2             2  2017     fall  quiz06  s204527a1  AllCharsExcept      5   \n",
       "3             3  2017     fall  quiz06  s20ffbd50  AllCharsExcept      5   \n",
       "4             4  2017     fall  quiz06  s2d43f936  AllCharsExcept      5   \n",
       "..          ...   ...      ...     ...        ...             ...    ...   \n",
       "103         103  2018     fall  quiz11  seb2c407c   WriteAndGrade     50   \n",
       "104         104  2018     fall  quiz11  see34afd4   WriteAndGrade     50   \n",
       "105         105  2018     fall  quiz11  sf0118345   WriteAndGrade     50   \n",
       "106         106  2018     fall  quiz11  sf1f60f2f   WriteAndGrade     50   \n",
       "107         107  2018     fall  quiz11  sf39b2f6f   WriteAndGrade     50   \n",
       "\n",
       "     Maximum    Distance   Percent  Distance Z-score  Distance Min-Max Scaled  \n",
       "0          5   35.053191  0.272878         -0.387510                 0.050811  \n",
       "1          5   35.531915  0.276605         -0.364327                 0.055676  \n",
       "2          5   40.319149  0.313872         -0.132494                 0.104324  \n",
       "3          5  128.457447  1.000000          4.135801                 1.000000  \n",
       "4          5   88.053191  0.685466          2.179134                 0.589405  \n",
       "..       ...         ...       ...               ...                      ...  \n",
       "103       50  270.803738  0.698554          1.649165                 0.566781  \n",
       "104       50  202.766355  0.523047          0.510975                 0.314555  \n",
       "105       50  138.186916  0.356461         -0.569367                 0.075148  \n",
       "106       50  141.177570  0.364176         -0.519337                 0.086235  \n",
       "107       50  179.065421  0.461909          0.114485                 0.226692  \n",
       "\n",
       "[12475 rows x 12 columns]"
      ]
     },
     "execution_count": 18,
     "metadata": {},
     "output_type": "execute_result"
    }
   ],
   "source": [
    "fullScoreData"
   ]
  },
  {
   "cell_type": "code",
   "execution_count": 19,
   "id": "4ce2fe0c",
   "metadata": {},
   "outputs": [],
   "source": [
    "fullScoreData2 = fullScoreData.drop(fullScoreData.columns[0], axis=1)"
   ]
  },
  {
   "cell_type": "code",
   "execution_count": 17,
   "id": "d36c422d",
   "metadata": {},
   "outputs": [],
   "source": [
    "#fullScoreData2.to_csv(\"fullScoreProgramData.csv\")"
   ]
  },
  {
   "cell_type": "code",
   "execution_count": 20,
   "id": "e6414658",
   "metadata": {},
   "outputs": [],
   "source": [
    "f_students_mean = fullScoreData2.groupby(\"Student ID\").mean()"
   ]
  },
  {
   "cell_type": "code",
   "execution_count": 21,
   "id": "c5abdbf3",
   "metadata": {},
   "outputs": [],
   "source": [
    "f_zscore = f_students_mean.loc[:, ['Distance Z-score']]"
   ]
  },
  {
   "cell_type": "code",
   "execution_count": 22,
   "id": "8e43152c",
   "metadata": {},
   "outputs": [],
   "source": [
    "f_zscore.rename({'Distance Z-score': 'Z-score of 100% Submissions'}, axis=1, inplace=True)"
   ]
  },
  {
   "cell_type": "code",
   "execution_count": 23,
   "id": "0eb473f5",
   "metadata": {},
   "outputs": [],
   "source": [
    "f_students = students.join(f_zscore)"
   ]
  },
  {
   "cell_type": "code",
   "execution_count": 24,
   "id": "3c0747d3",
   "metadata": {
    "scrolled": true
   },
   "outputs": [],
   "source": [
    "f_students_final = f_students.dropna(subset=['Z-score of 100% Submissions'])"
   ]
  },
  {
   "cell_type": "code",
   "execution_count": 25,
   "id": "c953c52f",
   "metadata": {
    "scrolled": true
   },
   "outputs": [
    {
     "data": {
      "text/html": [
       "<div>\n",
       "<style scoped>\n",
       "    .dataframe tbody tr th:only-of-type {\n",
       "        vertical-align: middle;\n",
       "    }\n",
       "\n",
       "    .dataframe tbody tr th {\n",
       "        vertical-align: top;\n",
       "    }\n",
       "\n",
       "    .dataframe thead th {\n",
       "        text-align: right;\n",
       "    }\n",
       "</style>\n",
       "<table border=\"1\" class=\"dataframe\">\n",
       "  <thead>\n",
       "    <tr style=\"text-align: right;\">\n",
       "      <th></th>\n",
       "      <th>Distance Z-score</th>\n",
       "      <th>Distance Min-Max Scaled</th>\n",
       "      <th>Score</th>\n",
       "      <th>Maximum</th>\n",
       "      <th>Score / Maximum %</th>\n",
       "      <th>Z-score of 100% Submissions</th>\n",
       "    </tr>\n",
       "    <tr>\n",
       "      <th>Student ID</th>\n",
       "      <th></th>\n",
       "      <th></th>\n",
       "      <th></th>\n",
       "      <th></th>\n",
       "      <th></th>\n",
       "      <th></th>\n",
       "    </tr>\n",
       "  </thead>\n",
       "  <tbody>\n",
       "    <tr>\n",
       "      <th>s1041b5c9</th>\n",
       "      <td>0.762457</td>\n",
       "      <td>0.348605</td>\n",
       "      <td>51.0</td>\n",
       "      <td>200</td>\n",
       "      <td>0.255000</td>\n",
       "      <td>0.422196</td>\n",
       "    </tr>\n",
       "    <tr>\n",
       "      <th>s1052bd77</th>\n",
       "      <td>0.214526</td>\n",
       "      <td>0.292264</td>\n",
       "      <td>13.0</td>\n",
       "      <td>81</td>\n",
       "      <td>0.160494</td>\n",
       "      <td>-0.771563</td>\n",
       "    </tr>\n",
       "    <tr>\n",
       "      <th>s106e6058</th>\n",
       "      <td>-0.055967</td>\n",
       "      <td>0.166713</td>\n",
       "      <td>122.0</td>\n",
       "      <td>164</td>\n",
       "      <td>0.743902</td>\n",
       "      <td>0.040294</td>\n",
       "    </tr>\n",
       "    <tr>\n",
       "      <th>s116f876e</th>\n",
       "      <td>-0.200226</td>\n",
       "      <td>0.157200</td>\n",
       "      <td>263.0</td>\n",
       "      <td>299</td>\n",
       "      <td>0.879599</td>\n",
       "      <td>-0.072473</td>\n",
       "    </tr>\n",
       "    <tr>\n",
       "      <th>s121e58a1</th>\n",
       "      <td>-0.226883</td>\n",
       "      <td>0.143856</td>\n",
       "      <td>299.0</td>\n",
       "      <td>299</td>\n",
       "      <td>1.000000</td>\n",
       "      <td>-0.153839</td>\n",
       "    </tr>\n",
       "    <tr>\n",
       "      <th>...</th>\n",
       "      <td>...</td>\n",
       "      <td>...</td>\n",
       "      <td>...</td>\n",
       "      <td>...</td>\n",
       "      <td>...</td>\n",
       "      <td>...</td>\n",
       "    </tr>\n",
       "    <tr>\n",
       "      <th>sfeb87ba8</th>\n",
       "      <td>-0.022967</td>\n",
       "      <td>0.179125</td>\n",
       "      <td>105.0</td>\n",
       "      <td>174</td>\n",
       "      <td>0.603448</td>\n",
       "      <td>-0.196327</td>\n",
       "    </tr>\n",
       "    <tr>\n",
       "      <th>sfeb9f2b1</th>\n",
       "      <td>-0.346523</td>\n",
       "      <td>0.118333</td>\n",
       "      <td>283.0</td>\n",
       "      <td>294</td>\n",
       "      <td>0.962585</td>\n",
       "      <td>-0.317479</td>\n",
       "    </tr>\n",
       "    <tr>\n",
       "      <th>sfefcd29e</th>\n",
       "      <td>-0.372204</td>\n",
       "      <td>0.105349</td>\n",
       "      <td>144.0</td>\n",
       "      <td>254</td>\n",
       "      <td>0.566929</td>\n",
       "      <td>-0.554266</td>\n",
       "    </tr>\n",
       "    <tr>\n",
       "      <th>sff6cfe28</th>\n",
       "      <td>-0.306760</td>\n",
       "      <td>0.116633</td>\n",
       "      <td>289.0</td>\n",
       "      <td>299</td>\n",
       "      <td>0.966555</td>\n",
       "      <td>-0.189347</td>\n",
       "    </tr>\n",
       "    <tr>\n",
       "      <th>sffae1858</th>\n",
       "      <td>-0.266476</td>\n",
       "      <td>0.125698</td>\n",
       "      <td>234.0</td>\n",
       "      <td>264</td>\n",
       "      <td>0.886364</td>\n",
       "      <td>-0.240111</td>\n",
       "    </tr>\n",
       "  </tbody>\n",
       "</table>\n",
       "<p>816 rows × 6 columns</p>\n",
       "</div>"
      ],
      "text/plain": [
       "            Distance Z-score  Distance Min-Max Scaled  Score  Maximum  \\\n",
       "Student ID                                                              \n",
       "s1041b5c9           0.762457                 0.348605   51.0      200   \n",
       "s1052bd77           0.214526                 0.292264   13.0       81   \n",
       "s106e6058          -0.055967                 0.166713  122.0      164   \n",
       "s116f876e          -0.200226                 0.157200  263.0      299   \n",
       "s121e58a1          -0.226883                 0.143856  299.0      299   \n",
       "...                      ...                      ...    ...      ...   \n",
       "sfeb87ba8          -0.022967                 0.179125  105.0      174   \n",
       "sfeb9f2b1          -0.346523                 0.118333  283.0      294   \n",
       "sfefcd29e          -0.372204                 0.105349  144.0      254   \n",
       "sff6cfe28          -0.306760                 0.116633  289.0      299   \n",
       "sffae1858          -0.266476                 0.125698  234.0      264   \n",
       "\n",
       "            Score / Maximum %  Z-score of 100% Submissions  \n",
       "Student ID                                                  \n",
       "s1041b5c9            0.255000                     0.422196  \n",
       "s1052bd77            0.160494                    -0.771563  \n",
       "s106e6058            0.743902                     0.040294  \n",
       "s116f876e            0.879599                    -0.072473  \n",
       "s121e58a1            1.000000                    -0.153839  \n",
       "...                       ...                          ...  \n",
       "sfeb87ba8            0.603448                    -0.196327  \n",
       "sfeb9f2b1            0.962585                    -0.317479  \n",
       "sfefcd29e            0.566929                    -0.554266  \n",
       "sff6cfe28            0.966555                    -0.189347  \n",
       "sffae1858            0.886364                    -0.240111  \n",
       "\n",
       "[816 rows x 6 columns]"
      ]
     },
     "execution_count": 25,
     "metadata": {},
     "output_type": "execute_result"
    }
   ],
   "source": [
    "f_students_final"
   ]
  },
  {
   "cell_type": "code",
   "execution_count": 26,
   "id": "7673ed73",
   "metadata": {},
   "outputs": [],
   "source": [
    "os.chdir(\"C:/Users/Elijah/Documents/GitHub/code-to-ast/data-analysis\")\n",
    "f_students_final.to_csv(\"allStudentData.csv\")"
   ]
  },
  {
   "cell_type": "code",
   "execution_count": 27,
   "id": "ed8f0151",
   "metadata": {
    "scrolled": true
   },
   "outputs": [
    {
     "data": {
      "text/plain": [
       "(-0.10681057837273127, 0.002249201963983794)"
      ]
     },
     "execution_count": 27,
     "metadata": {},
     "output_type": "execute_result"
    }
   ],
   "source": [
    "pearsonr(f_students_final['Z-score of 100% Submissions'], f_students_final['Score / Maximum %'])"
   ]
  },
  {
   "cell_type": "code",
   "execution_count": 28,
   "id": "f5d8a762",
   "metadata": {
    "scrolled": false
   },
   "outputs": [
    {
     "data": {
      "image/png": "[encoded data removed]",
      "text/plain": [
       "<Figure size 432x288 with 1 Axes>"
      ]
     },
     "metadata": {
      "needs_background": "light"
     },
     "output_type": "display_data"
    }
   ],
   "source": [
    "x = f_students_final['Score / Maximum %']\n",
    "y = f_students_final['Z-score of 100% Submissions']\n",
    "f_students_final.plot(x='Score / Maximum %', y='Z-score of 100% Submissions', kind='scatter')\n",
    "plt.plot()\n",
    "m, b = np.polyfit(x, y, 1)\n",
    "plt.plot(x, m*x+b, color='red')\n",
    "plt.xlabel('Total Points Earned / Maximum Points Possible')\n",
    "plt.ylabel('Average Z-score of Tree Edit Distance')\n",
    "plt.savefig('C:/Users/Elijah/Documents/GitHub/code-to-ast/data-analysis/graphs/full_score_distance_vs_perf.png')"
   ]
  },
  {
   "cell_type": "markdown",
   "id": "a28b4dbf",
   "metadata": {},
   "source": [
    "### Pearson Correlation of Avg. Z-score of Correct Solutions vs Overall Quiz Performance of 25-75 Quartile Student Data"
   ]
  },
  {
   "cell_type": "code",
   "execution_count": 3,
   "id": "57345fe8",
   "metadata": {},
   "outputs": [],
   "source": [
    "quart_data = pd.read_csv(\"25-75QuartileStudentData.csv\")"
   ]
  },
  {
   "cell_type": "code",
   "execution_count": 6,
   "id": "99aca4ec",
   "metadata": {
    "scrolled": true
   },
   "outputs": [
    {
     "data": {
      "image/png": "[encoded data removed]",
      "text/plain": [
       "<Figure size 432x288 with 1 Axes>"
      ]
     },
     "metadata": {
      "needs_background": "light"
     },
     "output_type": "display_data"
    }
   ],
   "source": [
    "x = quart_data['Quiz Performance']\n",
    "y = quart_data['Distance Z-score']\n",
    "quart_data.plot(x='Quiz Performance', y='Distance Z-score', kind='scatter')\n",
    "plt.plot()\n",
    "m, b = np.polyfit(x, y, 1)\n",
    "plt.plot(x, m*x+b, color='red')\n",
    "plt.xlabel('Total Points Earned / Maximum Points Possible')\n",
    "plt.ylabel('Average Z-score of Tree Edit Distance')\n",
    "plt.savefig('C:/Users/Elijah/Documents/GitHub/code-to-ast/data-analysis/graphs/full_vs_perf_quartile.png')"
   ]
  },
  {
   "cell_type": "code",
   "execution_count": 7,
   "id": "cbab3d17",
   "metadata": {
    "scrolled": true
   },
   "outputs": [
    {
     "data": {
      "text/plain": [
       "(-0.05036675940698827, 0.27026391429325236)"
      ]
     },
     "execution_count": 7,
     "metadata": {},
     "output_type": "execute_result"
    }
   ],
   "source": [
    "pearsonr(quart_data['Distance Z-score'], quart_data['Quiz Performance'])"
   ]
  },
  {
   "cell_type": "markdown",
   "id": "c9efecb2",
   "metadata": {},
   "source": [
    "### Pearson Correlation for 0-25 and 75-100 Quartile Student Data"
   ]
  },
  {
   "cell_type": "code",
   "execution_count": 2,
   "id": "c1d00b1c",
   "metadata": {},
   "outputs": [],
   "source": [
    "low_quart = pd.read_csv(\"0-25QuartileStudentData.csv\")\n",
    "high_quart = pd.read_csv(\"75-100QuartileStudentData.csv\")"
   ]
  },
  {
   "cell_type": "code",
   "execution_count": 3,
   "id": "d33bed42",
   "metadata": {
    "scrolled": true
   },
   "outputs": [
    {
     "data": {
      "image/png": "[encoded data removed]",
      "text/plain": [
       "<Figure size 432x288 with 1 Axes>"
      ]
     },
     "metadata": {
      "needs_background": "light"
     },
     "output_type": "display_data"
    }
   ],
   "source": [
    "x = low_quart['Quiz Performance']\n",
    "y = low_quart['Distance Z-score']\n",
    "low_quart.plot(x='Quiz Performance', y='Distance Z-score', kind='scatter')\n",
    "plt.plot()\n",
    "m, b = np.polyfit(x, y, 1)\n",
    "plt.plot(x, m*x+b, color='red')\n",
    "plt.xlabel('Total Points Earned / Maximum Points Possible')\n",
    "plt.ylabel('Average Z-score of Tree Edit Distance')\n",
    "plt.savefig('C:/Users/Elijah/Documents/GitHub/code-to-ast/data-analysis/graphs/0-25QuartilePearson.png')"
   ]
  },
  {
   "cell_type": "code",
   "execution_count": 5,
   "id": "8d63c7af",
   "metadata": {},
   "outputs": [
    {
     "data": {
      "text/plain": [
       "(0.001393813144517017, 0.9862222409427338)"
      ]
     },
     "execution_count": 5,
     "metadata": {},
     "output_type": "execute_result"
    }
   ],
   "source": [
    "pearsonr(low_quart['Distance Z-score'], low_quart['Quiz Performance'])"
   ]
  },
  {
   "cell_type": "code",
   "execution_count": 4,
   "id": "24805918",
   "metadata": {
    "scrolled": true
   },
   "outputs": [
    {
     "data": {
      "image/png": "[encoded data removed]",
      "text/plain": [
       "<Figure size 432x288 with 1 Axes>"
      ]
     },
     "metadata": {
      "needs_background": "light"
     },
     "output_type": "display_data"
    }
   ],
   "source": [
    "x = high_quart['Quiz Performance']\n",
    "y = high_quart['Distance Z-score']\n",
    "high_quart.plot(x='Quiz Performance', y='Distance Z-score', kind='scatter')\n",
    "plt.plot()\n",
    "m, b = np.polyfit(x, y, 1)\n",
    "plt.plot(x, m*x+b, color='red')\n",
    "plt.xlabel('Total Points Earned / Maximum Points Possible')\n",
    "plt.ylabel('Average Z-score of Tree Edit Distance')\n",
    "plt.savefig('C:/Users/Elijah/Documents/GitHub/code-to-ast/data-analysis/graphs/75-100QuartilePearson.png')"
   ]
  },
  {
   "cell_type": "code",
   "execution_count": 6,
   "id": "c0b2b118",
   "metadata": {},
   "outputs": [
    {
     "data": {
      "text/plain": [
       "(-0.11487944785440184, 0.05573125837781127)"
      ]
     },
     "execution_count": 6,
     "metadata": {},
     "output_type": "execute_result"
    }
   ],
   "source": [
    "pearsonr(high_quart['Distance Z-score'], high_quart['Quiz Performance'])"
   ]
  }
 ],
 "metadata": {
  "kernelspec": {
   "display_name": "Python 3",
   "language": "python",
   "name": "python3"
  },
  "language_info": {
   "codemirror_mode": {
    "name": "ipython",
    "version": 3
   },
   "file_extension": ".py",
   "mimetype": "text/x-python",
   "name": "python",
   "nbconvert_exporter": "python",
   "pygments_lexer": "ipython3",
   "version": "3.8.8"
  }
 },
 "nbformat": 4,
 "nbformat_minor": 5
}
