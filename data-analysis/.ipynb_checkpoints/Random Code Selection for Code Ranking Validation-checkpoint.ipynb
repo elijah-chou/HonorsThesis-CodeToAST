{
 "cells": [
  {
   "cell_type": "code",
   "execution_count": 26,
   "id": "d12b2601",
   "metadata": {},
   "outputs": [],
   "source": [
    "import os\n",
    "import pandas as pd"
   ]
  },
  {
   "cell_type": "code",
   "execution_count": 84,
   "id": "0b5d23c9",
   "metadata": {},
   "outputs": [],
   "source": [
    "os.chdir(\"C:/Users/Elijah/Desktop/results-only-full-scores\")\n",
    "data = pd.read_csv(\"RecursiveHasCar.csv\")\n",
    "data['bins'] = pd.cut(x=data['Distance Z-score'], bins=3)"
   ]
  },
  {
   "cell_type": "code",
   "execution_count": 85,
   "id": "c6582c9d",
   "metadata": {},
   "outputs": [
    {
     "data": {
      "text/html": [
       "<div>\n",
       "<style scoped>\n",
       "    .dataframe tbody tr th:only-of-type {\n",
       "        vertical-align: middle;\n",
       "    }\n",
       "\n",
       "    .dataframe tbody tr th {\n",
       "        vertical-align: top;\n",
       "    }\n",
       "\n",
       "    .dataframe thead th {\n",
       "        text-align: right;\n",
       "    }\n",
       "</style>\n",
       "<table border=\"1\" class=\"dataframe\">\n",
       "  <thead>\n",
       "    <tr style=\"text-align: right;\">\n",
       "      <th></th>\n",
       "      <th>Unnamed: 0</th>\n",
       "      <th>Year</th>\n",
       "      <th>Semester</th>\n",
       "      <th>Quiz #</th>\n",
       "      <th>Student ID</th>\n",
       "      <th>Coding Problem</th>\n",
       "      <th>Score</th>\n",
       "      <th>Maximum</th>\n",
       "      <th>Distance</th>\n",
       "      <th>Percent</th>\n",
       "      <th>Distance Z-score</th>\n",
       "      <th>Distance Min-Max Scaled</th>\n",
       "      <th>bins</th>\n",
       "    </tr>\n",
       "  </thead>\n",
       "  <tbody>\n",
       "    <tr>\n",
       "      <th>13</th>\n",
       "      <td>13</td>\n",
       "      <td>2016</td>\n",
       "      <td>fall</td>\n",
       "      <td>quiz04</td>\n",
       "      <td>s62165836</td>\n",
       "      <td>SumMultX</td>\n",
       "      <td>5</td>\n",
       "      <td>5</td>\n",
       "      <td>51.500000</td>\n",
       "      <td>0.39737</td>\n",
       "      <td>0.481548</td>\n",
       "      <td>0.212470</td>\n",
       "      <td>(-0.786, 1.199]</td>\n",
       "    </tr>\n",
       "    <tr>\n",
       "      <th>41</th>\n",
       "      <td>41</td>\n",
       "      <td>2017</td>\n",
       "      <td>fall</td>\n",
       "      <td>quiz04</td>\n",
       "      <td>s353a060b</td>\n",
       "      <td>SumMultX</td>\n",
       "      <td>5</td>\n",
       "      <td>5</td>\n",
       "      <td>69.316327</td>\n",
       "      <td>0.53484</td>\n",
       "      <td>1.548217</td>\n",
       "      <td>0.392119</td>\n",
       "      <td>(1.199, 3.178]</td>\n",
       "    </tr>\n",
       "    <tr>\n",
       "      <th>63</th>\n",
       "      <td>63</td>\n",
       "      <td>2018</td>\n",
       "      <td>spring</td>\n",
       "      <td>quiz04</td>\n",
       "      <td>s12bfba84</td>\n",
       "      <td>SumMultX</td>\n",
       "      <td>5</td>\n",
       "      <td>5</td>\n",
       "      <td>129.602041</td>\n",
       "      <td>1.00000</td>\n",
       "      <td>5.157541</td>\n",
       "      <td>1.000000</td>\n",
       "      <td>(3.178, 5.158]</td>\n",
       "    </tr>\n",
       "  </tbody>\n",
       "</table>\n",
       "</div>"
      ],
      "text/plain": [
       "    Unnamed: 0  Year Semester  Quiz # Student ID Coding Problem  Score  \\\n",
       "13          13  2016     fall  quiz04  s62165836       SumMultX      5   \n",
       "41          41  2017     fall  quiz04  s353a060b       SumMultX      5   \n",
       "63          63  2018   spring  quiz04  s12bfba84       SumMultX      5   \n",
       "\n",
       "    Maximum    Distance  Percent  Distance Z-score  Distance Min-Max Scaled  \\\n",
       "13        5   51.500000  0.39737          0.481548                 0.212470   \n",
       "41        5   69.316327  0.53484          1.548217                 0.392119   \n",
       "63        5  129.602041  1.00000          5.157541                 1.000000   \n",
       "\n",
       "               bins  \n",
       "13  (-0.786, 1.199]  \n",
       "41   (1.199, 3.178]  \n",
       "63   (3.178, 5.158]  "
      ]
     },
     "execution_count": 85,
     "metadata": {},
     "output_type": "execute_result"
    }
   ],
   "source": [
    "data.groupby('bins').sample(n=1)"
   ]
  }
 ],
 "metadata": {
  "kernelspec": {
   "display_name": "Python 3",
   "language": "python",
   "name": "python3"
  },
  "language_info": {
   "codemirror_mode": {
    "name": "ipython",
    "version": 3
   },
   "file_extension": ".py",
   "mimetype": "text/x-python",
   "name": "python",
   "nbconvert_exporter": "python",
   "pygments_lexer": "ipython3",
   "version": "3.8.8"
  }
 },
 "nbformat": 4,
 "nbformat_minor": 5
}
