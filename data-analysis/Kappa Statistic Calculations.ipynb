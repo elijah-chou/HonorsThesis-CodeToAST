{
 "cells": [
  {
   "cell_type": "code",
   "execution_count": 3,
   "id": "c643aabe",
   "metadata": {},
   "outputs": [],
   "source": [
    "from statsmodels.stats import inter_rater as irr\n",
    "import pandas as pd\n",
    "import numpy as np"
   ]
  },
  {
   "cell_type": "code",
   "execution_count": 5,
   "id": "f3fcb1e5",
   "metadata": {},
   "outputs": [],
   "source": [
    "data = pd.read_csv(\"C:/Users/Elijah/Downloads/Ranking Experiment Raw Data.csv\")"
   ]
  },
  {
   "cell_type": "code",
   "execution_count": 8,
   "id": "8312bd6b",
   "metadata": {},
   "outputs": [],
   "source": [
    "arr = data.to_numpy()"
   ]
  },
  {
   "cell_type": "code",
   "execution_count": 9,
   "id": "6b35b61a",
   "metadata": {},
   "outputs": [],
   "source": [
    "agg = irr.aggregate_raters(arr)"
   ]
  },
  {
   "cell_type": "code",
   "execution_count": 11,
   "id": "c1730dac",
   "metadata": {},
   "outputs": [
    {
     "data": {
      "text/plain": [
       "-0.07142857142857133"
      ]
     },
     "execution_count": 11,
     "metadata": {},
     "output_type": "execute_result"
    }
   ],
   "source": [
    "irr.fleiss_kappa(agg[0], method='fleiss')"
   ]
  },
  {
   "cell_type": "code",
   "execution_count": null,
   "id": "828f692c",
   "metadata": {},
   "outputs": [],
   "source": []
  }
 ],
 "metadata": {
  "kernelspec": {
   "display_name": "Python 3",
   "language": "python",
   "name": "python3"
  },
  "language_info": {
   "codemirror_mode": {
    "name": "ipython",
    "version": 3
   },
   "file_extension": ".py",
   "mimetype": "text/x-python",
   "name": "python",
   "nbconvert_exporter": "python",
   "pygments_lexer": "ipython3",
   "version": "3.8.8"
  }
 },
 "nbformat": 4,
 "nbformat_minor": 5
}
