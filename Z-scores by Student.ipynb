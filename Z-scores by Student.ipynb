{
 "cells": [
  {
   "cell_type": "code",
   "execution_count": 3,
   "id": "1ea5570d",
   "metadata": {},
   "outputs": [],
   "source": [
    "import pandas as pd\n",
    "import numpy as np\n",
    "import os\n"
   ]
  },
  {
   "cell_type": "code",
   "execution_count": 6,
   "id": "436718aa",
   "metadata": {},
   "outputs": [],
   "source": [
    "os.chdir(\"C:/Users/Elijah/Desktop/results-including-0-scores\")\n",
    "allData = pd.DataFrame()\n",
    "for filename in os.listdir(os.getcwd()):\n",
    "    file = pd.read_csv(filename)\n",
    "    allData = pd.concat([allData, file])"
   ]
  },
  {
   "cell_type": "code",
   "execution_count": 8,
   "id": "f1fed51c",
   "metadata": {},
   "outputs": [],
   "source": [
    "allData2 = allData.drop(allData.columns[[0,1]], axis=1)"
   ]
  },
  {
   "cell_type": "code",
   "execution_count": 15,
   "id": "e9dcd38d",
   "metadata": {
    "scrolled": false
   },
   "outputs": [
    {
     "data": {
      "text/plain": [
       "Year                         int64\n",
       "Semester                    object\n",
       "Quiz #                      object\n",
       "Student ID                  object\n",
       "Coding Problem              object\n",
       "Score                      float64\n",
       "Maximum                      int64\n",
       "Distance                   float64\n",
       "Percent                    float64\n",
       "Distance Z-score           float64\n",
       "Distance Min-Max Scaled    float64\n",
       "dtype: object"
      ]
     },
     "execution_count": 15,
     "metadata": {},
     "output_type": "execute_result"
    }
   ],
   "source": [
    "allData2.dtypes"
   ]
  },
  {
   "cell_type": "code",
   "execution_count": 26,
   "id": "8f1b88a8",
   "metadata": {},
   "outputs": [],
   "source": [
    "students_mean = allData2.groupby(\"Student ID\").mean()"
   ]
  },
  {
   "cell_type": "code",
   "execution_count": 28,
   "id": "82c52276",
   "metadata": {},
   "outputs": [],
   "source": [
    "zscore = students_mean.loc[:, ['Distance Z-score', 'Distance Min-Max Scaled']]"
   ]
  },
  {
   "cell_type": "code",
   "execution_count": 29,
   "id": "48f16fc1",
   "metadata": {},
   "outputs": [],
   "source": [
    "students_sum = allData2.groupby(\"Student ID\").sum()"
   ]
  },
  {
   "cell_type": "code",
   "execution_count": 30,
   "id": "39d0f8bf",
   "metadata": {},
   "outputs": [],
   "source": [
    "grades = students_sum.loc[:, ['Score', 'Maximum']]"
   ]
  },
  {
   "cell_type": "code",
   "execution_count": 32,
   "id": "dc033f95",
   "metadata": {},
   "outputs": [],
   "source": [
    "students = zscore.join(grades)"
   ]
  },
  {
   "cell_type": "code",
   "execution_count": 33,
   "id": "843b0344",
   "metadata": {
    "scrolled": false
   },
   "outputs": [
    {
     "data": {
      "text/html": [
       "<div>\n",
       "<style scoped>\n",
       "    .dataframe tbody tr th:only-of-type {\n",
       "        vertical-align: middle;\n",
       "    }\n",
       "\n",
       "    .dataframe tbody tr th {\n",
       "        vertical-align: top;\n",
       "    }\n",
       "\n",
       "    .dataframe thead th {\n",
       "        text-align: right;\n",
       "    }\n",
       "</style>\n",
       "<table border=\"1\" class=\"dataframe\">\n",
       "  <thead>\n",
       "    <tr style=\"text-align: right;\">\n",
       "      <th></th>\n",
       "      <th>Distance Z-score</th>\n",
       "      <th>Distance Min-Max Scaled</th>\n",
       "      <th>Score</th>\n",
       "      <th>Maximum</th>\n",
       "    </tr>\n",
       "    <tr>\n",
       "      <th>Student ID</th>\n",
       "      <th></th>\n",
       "      <th></th>\n",
       "      <th></th>\n",
       "      <th></th>\n",
       "    </tr>\n",
       "  </thead>\n",
       "  <tbody>\n",
       "    <tr>\n",
       "      <th>s1041b5c9</th>\n",
       "      <td>0.762457</td>\n",
       "      <td>0.348605</td>\n",
       "      <td>51.0</td>\n",
       "      <td>200</td>\n",
       "    </tr>\n",
       "    <tr>\n",
       "      <th>s1052bd77</th>\n",
       "      <td>0.214526</td>\n",
       "      <td>0.292264</td>\n",
       "      <td>13.0</td>\n",
       "      <td>81</td>\n",
       "    </tr>\n",
       "    <tr>\n",
       "      <th>s106e6058</th>\n",
       "      <td>-0.055967</td>\n",
       "      <td>0.166713</td>\n",
       "      <td>122.0</td>\n",
       "      <td>164</td>\n",
       "    </tr>\n",
       "    <tr>\n",
       "      <th>s116f876e</th>\n",
       "      <td>-0.200226</td>\n",
       "      <td>0.157200</td>\n",
       "      <td>263.0</td>\n",
       "      <td>299</td>\n",
       "    </tr>\n",
       "    <tr>\n",
       "      <th>s1187ca0f</th>\n",
       "      <td>1.748974</td>\n",
       "      <td>0.420951</td>\n",
       "      <td>0.0</td>\n",
       "      <td>50</td>\n",
       "    </tr>\n",
       "    <tr>\n",
       "      <th>...</th>\n",
       "      <td>...</td>\n",
       "      <td>...</td>\n",
       "      <td>...</td>\n",
       "      <td>...</td>\n",
       "    </tr>\n",
       "    <tr>\n",
       "      <th>sfeb87ba8</th>\n",
       "      <td>-0.022967</td>\n",
       "      <td>0.179125</td>\n",
       "      <td>105.0</td>\n",
       "      <td>174</td>\n",
       "    </tr>\n",
       "    <tr>\n",
       "      <th>sfeb9f2b1</th>\n",
       "      <td>-0.346523</td>\n",
       "      <td>0.118333</td>\n",
       "      <td>283.0</td>\n",
       "      <td>294</td>\n",
       "    </tr>\n",
       "    <tr>\n",
       "      <th>sfefcd29e</th>\n",
       "      <td>-0.372204</td>\n",
       "      <td>0.105349</td>\n",
       "      <td>144.0</td>\n",
       "      <td>254</td>\n",
       "    </tr>\n",
       "    <tr>\n",
       "      <th>sff6cfe28</th>\n",
       "      <td>-0.306760</td>\n",
       "      <td>0.116633</td>\n",
       "      <td>289.0</td>\n",
       "      <td>299</td>\n",
       "    </tr>\n",
       "    <tr>\n",
       "      <th>sffae1858</th>\n",
       "      <td>-0.266476</td>\n",
       "      <td>0.125698</td>\n",
       "      <td>234.0</td>\n",
       "      <td>264</td>\n",
       "    </tr>\n",
       "  </tbody>\n",
       "</table>\n",
       "<p>867 rows × 4 columns</p>\n",
       "</div>"
      ],
      "text/plain": [
       "            Distance Z-score  Distance Min-Max Scaled  Score  Maximum\n",
       "Student ID                                                           \n",
       "s1041b5c9           0.762457                 0.348605   51.0      200\n",
       "s1052bd77           0.214526                 0.292264   13.0       81\n",
       "s106e6058          -0.055967                 0.166713  122.0      164\n",
       "s116f876e          -0.200226                 0.157200  263.0      299\n",
       "s1187ca0f           1.748974                 0.420951    0.0       50\n",
       "...                      ...                      ...    ...      ...\n",
       "sfeb87ba8          -0.022967                 0.179125  105.0      174\n",
       "sfeb9f2b1          -0.346523                 0.118333  283.0      294\n",
       "sfefcd29e          -0.372204                 0.105349  144.0      254\n",
       "sff6cfe28          -0.306760                 0.116633  289.0      299\n",
       "sffae1858          -0.266476                 0.125698  234.0      264\n",
       "\n",
       "[867 rows x 4 columns]"
      ]
     },
     "execution_count": 33,
     "metadata": {},
     "output_type": "execute_result"
    }
   ],
   "source": [
    "students"
   ]
  }
 ],
 "metadata": {
  "kernelspec": {
   "display_name": "Python 3",
   "language": "python",
   "name": "python3"
  },
  "language_info": {
   "codemirror_mode": {
    "name": "ipython",
    "version": 3
   },
   "file_extension": ".py",
   "mimetype": "text/x-python",
   "name": "python",
   "nbconvert_exporter": "python",
   "pygments_lexer": "ipython3",
   "version": "3.8.8"
  }
 },
 "nbformat": 4,
 "nbformat_minor": 5
}
