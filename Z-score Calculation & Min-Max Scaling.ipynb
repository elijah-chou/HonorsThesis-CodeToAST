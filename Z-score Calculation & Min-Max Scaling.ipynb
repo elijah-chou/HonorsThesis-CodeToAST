{
 "cells": [
  {
   "cell_type": "code",
   "execution_count": 3,
   "id": "6be46839",
   "metadata": {},
   "outputs": [],
   "source": [
    "import pandas as pd\n",
    "import numpy as np\n",
    "import os\n",
    "import scipy.stats as stats\n",
    "from sklearn.preprocessing import MinMaxScaler"
   ]
  },
  {
   "cell_type": "code",
   "execution_count": 11,
   "id": "27b78c06",
   "metadata": {},
   "outputs": [],
   "source": [
    "os.chdir(\"C:/Users/Elijah/Desktop/ELITE/Research-creativity/Results\")\n",
    "scaler = MinMaxScaler()\n",
    "for filename in os.listdir(os.getcwd()):\n",
    "    file = pd.read_csv(filename)\n",
    "    file['Distance Z-score'] = stats.zscore(file['Distance'])\n",
    "    scaler.fit(file['Distance'].values.reshape(-1,1))\n",
    "    file['Distance Min-Max Scaled'] = scaler.transform(file['Distance'].values.reshape(-1,1))\n",
    "    file.to_csv(filename)"
   ]
  }
 ],
 "metadata": {
  "kernelspec": {
   "display_name": "Python 3",
   "language": "python",
   "name": "python3"
  },
  "language_info": {
   "codemirror_mode": {
    "name": "ipython",
    "version": 3
   },
   "file_extension": ".py",
   "mimetype": "text/x-python",
   "name": "python",
   "nbconvert_exporter": "python",
   "pygments_lexer": "ipython3",
   "version": "3.8.8"
  }
 },
 "nbformat": 4,
 "nbformat_minor": 5
}
